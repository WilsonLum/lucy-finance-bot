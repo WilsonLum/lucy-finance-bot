{
  "nbformat": 4,
  "nbformat_minor": 0,
  "metadata": {
    "colab": {
      "name": "NLP_EDA.ipynb",
      "provenance": [],
      "collapsed_sections": []
    },
    "kernelspec": {
      "name": "python3",
      "display_name": "Python 3"
    }
  },
  "cells": [
    {
      "cell_type": "code",
      "metadata": {
        "id": "S77RfYrZ0U7N",
        "colab_type": "code",
        "outputId": "e33efc2f-f26a-4ef4-c2c8-c3b307c622ba",
        "colab": {
          "base_uri": "https://localhost:8080/",
          "height": 303
        }
      },
      "source": [
        "# Ignore this cell\n",
        "import os\n",
        "from google.colab import drive\n",
        "drive.mount('/content/drive')\n",
        "os.chdir('/content/drive/My Drive/datasets/finance_social/Dataset')\n",
        "os.listdir()"
      ],
      "execution_count": 0,
      "outputs": [
        {
          "output_type": "stream",
          "text": [
            "Go to this URL in a browser: https://accounts.google.com/o/oauth2/auth?client_id=947318989803-6bn6qk8qdgf4n4g3pfee6491hc0brc4i.apps.googleusercontent.com&redirect_uri=urn%3aietf%3awg%3aoauth%3a2.0%3aoob&response_type=code&scope=email%20https%3a%2f%2fwww.googleapis.com%2fauth%2fdocs.test%20https%3a%2f%2fwww.googleapis.com%2fauth%2fdrive%20https%3a%2f%2fwww.googleapis.com%2fauth%2fdrive.photos.readonly%20https%3a%2f%2fwww.googleapis.com%2fauth%2fpeopleapi.readonly\n",
            "\n",
            "Enter your authorization code:\n",
            "··········\n",
            "Mounted at /content/drive\n"
          ],
          "name": "stdout"
        },
        {
          "output_type": "execute_result",
          "data": {
            "text/plain": [
              "['StockTwits',\n",
              " 'Twitter',\n",
              " 'ReutersNews',\n",
              " 'stocktwits.pkl',\n",
              " 'stocktwits_clean.pkl',\n",
              " 'twiters_label_data_Feb-02-2020.xlsx',\n",
              " 'Collect twiter data.ipynb',\n",
              " 'Stocktwits Label Model training with twiter data.ipynb',\n",
              " 'github data',\n",
              " 'stocktwits_sentiment_subjectivity_Feb-01-2020_p.xlsx']"
            ]
          },
          "metadata": {
            "tags": []
          },
          "execution_count": 2
        }
      ]
    },
    {
      "cell_type": "code",
      "metadata": {
        "id": "2vs6N8a611ov",
        "colab_type": "code",
        "outputId": "62798e21-e72c-445c-8195-d652b69d48b4",
        "colab": {
          "base_uri": "https://localhost:8080/",
          "height": 52
        }
      },
      "source": [
        "from pathlib import Path\n",
        "import json\n",
        "import re\n",
        "import os\n",
        "import pandas as pd\n",
        "import numpy as np\n",
        "import matplotlib.pyplot as plt\n",
        "import nltk\n",
        "import html\n",
        "\n",
        "nltk.download('punkt')\n",
        "from nltk import sent_tokenize, word_tokenize, wordpunct_tokenize"
      ],
      "execution_count": 0,
      "outputs": [
        {
          "output_type": "stream",
          "text": [
            "[nltk_data] Downloading package punkt to /root/nltk_data...\n",
            "[nltk_data]   Unzipping tokenizers/punkt.zip.\n"
          ],
          "name": "stdout"
        }
      ]
    },
    {
      "cell_type": "code",
      "metadata": {
        "id": "bUYsZ9-kZXCJ",
        "colab_type": "code",
        "colab": {}
      },
      "source": [
        "file_path = Path(\"StockTwits/AAPL.json\")\n",
        "stocktwits_dir = Path(\"StockTwits\")\n",
        "twitter_dir = Path(\"Twitter\")\n",
        "stocktwits_filename = 'stocktwits.pkl'"
      ],
      "execution_count": 0,
      "outputs": []
    },
    {
      "cell_type": "code",
      "metadata": {
        "id": "GKM6QIGga4YT",
        "colab_type": "code",
        "outputId": "9a5d5a94-43fc-41c6-f65c-df83f7573e03",
        "colab": {
          "base_uri": "https://localhost:8080/",
          "height": 740
        }
      },
      "source": [
        "with open(file_path, \"r\") as file:\n",
        "  raw_file_data = json.load(file)\n",
        "data  = pd.DataFrame(raw_file_data['messages'])\n",
        "print(data.columns)\n",
        "print(data.shape)\n",
        "data.head()"
      ],
      "execution_count": 0,
      "outputs": [
        {
          "output_type": "stream",
          "text": [
            "Index(['id', 'body', 'created_at', 'user', 'source', 'symbols',\n",
            "       'mentioned_users', 'entities', 'filters', 'reshare_message', 'likes',\n",
            "       'links', 'conversation', 'reshares'],\n",
            "      dtype='object')\n",
            "(9870, 14)\n"
          ],
          "name": "stdout"
        },
        {
          "output_type": "execute_result",
          "data": {
            "text/html": [
              "<div>\n",
              "<style scoped>\n",
              "    .dataframe tbody tr th:only-of-type {\n",
              "        vertical-align: middle;\n",
              "    }\n",
              "\n",
              "    .dataframe tbody tr th {\n",
              "        vertical-align: top;\n",
              "    }\n",
              "\n",
              "    .dataframe thead th {\n",
              "        text-align: right;\n",
              "    }\n",
              "</style>\n",
              "<table border=\"1\" class=\"dataframe\">\n",
              "  <thead>\n",
              "    <tr style=\"text-align: right;\">\n",
              "      <th></th>\n",
              "      <th>id</th>\n",
              "      <th>body</th>\n",
              "      <th>created_at</th>\n",
              "      <th>user</th>\n",
              "      <th>source</th>\n",
              "      <th>symbols</th>\n",
              "      <th>mentioned_users</th>\n",
              "      <th>entities</th>\n",
              "      <th>filters</th>\n",
              "      <th>reshare_message</th>\n",
              "      <th>likes</th>\n",
              "      <th>links</th>\n",
              "      <th>conversation</th>\n",
              "      <th>reshares</th>\n",
              "    </tr>\n",
              "  </thead>\n",
              "  <tbody>\n",
              "    <tr>\n",
              "      <th>0</th>\n",
              "      <td>191505381</td>\n",
              "      <td>$AAPL down a dollar pm i wont be touching this...</td>\n",
              "      <td>2020-01-23T07:40:55Z</td>\n",
              "      <td>{'id': 1912014, 'username': 'TheAssassin', 'na...</td>\n",
              "      <td>{'id': 1149, 'title': 'StockTwits for iOS', 'u...</td>\n",
              "      <td>[{'id': 686, 'symbol': 'AAPL', 'title': 'Apple...</td>\n",
              "      <td>[]</td>\n",
              "      <td>{'sentiment': None}</td>\n",
              "      <td>{'day_counts': 177, 'official_api': True}</td>\n",
              "      <td>NaN</td>\n",
              "      <td>NaN</td>\n",
              "      <td>NaN</td>\n",
              "      <td>NaN</td>\n",
              "      <td>NaN</td>\n",
              "    </tr>\n",
              "    <tr>\n",
              "      <th>1</th>\n",
              "      <td>191505097</td>\n",
              "      <td>$AAPL</td>\n",
              "      <td>2020-01-23T07:26:35Z</td>\n",
              "      <td>{'id': 2995764, 'username': 'Hk808', 'name': '...</td>\n",
              "      <td>{'id': 1149, 'title': 'StockTwits for iOS', 'u...</td>\n",
              "      <td>[{'id': 686, 'symbol': 'AAPL', 'title': 'Apple...</td>\n",
              "      <td>[]</td>\n",
              "      <td>{'sentiment': None}</td>\n",
              "      <td>{'day_counts': 0, 'official_api': True}</td>\n",
              "      <td>{'reshared_count': 1, 'reshared_deleted': Fals...</td>\n",
              "      <td>NaN</td>\n",
              "      <td>NaN</td>\n",
              "      <td>NaN</td>\n",
              "      <td>NaN</td>\n",
              "    </tr>\n",
              "    <tr>\n",
              "      <th>2</th>\n",
              "      <td>191504907</td>\n",
              "      <td>$AAPL 📈</td>\n",
              "      <td>2020-01-23T07:17:08Z</td>\n",
              "      <td>{'id': 1814718, 'username': '5tock0pt10nsTrad3...</td>\n",
              "      <td>{'id': 1149, 'title': 'StockTwits for iOS', 'u...</td>\n",
              "      <td>[{'id': 686, 'symbol': 'AAPL', 'title': 'Apple...</td>\n",
              "      <td>[]</td>\n",
              "      <td>{'sentiment': {'basic': 'Bullish'}}</td>\n",
              "      <td>{'day_counts': 28, 'official_api': True}</td>\n",
              "      <td>NaN</td>\n",
              "      <td>{'total': 1, 'user_ids': [385104]}</td>\n",
              "      <td>NaN</td>\n",
              "      <td>NaN</td>\n",
              "      <td>NaN</td>\n",
              "    </tr>\n",
              "    <tr>\n",
              "      <th>3</th>\n",
              "      <td>191504855</td>\n",
              "      <td>$SPY $AAPL Shorting and volatility is a thing ...</td>\n",
              "      <td>2020-01-23T07:14:03Z</td>\n",
              "      <td>{'id': 394973, 'username': 'UptrendCapitalLLC'...</td>\n",
              "      <td>{'id': 2269, 'title': 'StockTwits Web', 'url':...</td>\n",
              "      <td>[{'id': 686, 'symbol': 'AAPL', 'title': 'Apple...</td>\n",
              "      <td>[]</td>\n",
              "      <td>{'sentiment': None}</td>\n",
              "      <td>{'day_counts': 7, 'official_api': True}</td>\n",
              "      <td>NaN</td>\n",
              "      <td>{'total': 1, 'user_ids': [961088]}</td>\n",
              "      <td>NaN</td>\n",
              "      <td>NaN</td>\n",
              "      <td>NaN</td>\n",
              "    </tr>\n",
              "    <tr>\n",
              "      <th>4</th>\n",
              "      <td>191504175</td>\n",
              "      <td>$SPY https://www.dailystar.co.uk/news/world-ne...</td>\n",
              "      <td>2020-01-23T06:46:01Z</td>\n",
              "      <td>{'id': 257995, 'username': 'bottom_fisher', 'n...</td>\n",
              "      <td>{'id': 1149, 'title': 'StockTwits for iOS', 'u...</td>\n",
              "      <td>[{'id': 686, 'symbol': 'AAPL', 'title': 'Apple...</td>\n",
              "      <td>[]</td>\n",
              "      <td>{'sentiment': None}</td>\n",
              "      <td>{'day_counts': 12, 'official_api': True}</td>\n",
              "      <td>NaN</td>\n",
              "      <td>{'total': 1, 'user_ids': [1075370]}</td>\n",
              "      <td>[{'title': 'Global killer virus blamed on bat ...</td>\n",
              "      <td>NaN</td>\n",
              "      <td>NaN</td>\n",
              "    </tr>\n",
              "  </tbody>\n",
              "</table>\n",
              "</div>"
            ],
            "text/plain": [
              "          id  ... reshares\n",
              "0  191505381  ...      NaN\n",
              "1  191505097  ...      NaN\n",
              "2  191504907  ...      NaN\n",
              "3  191504855  ...      NaN\n",
              "4  191504175  ...      NaN\n",
              "\n",
              "[5 rows x 14 columns]"
            ]
          },
          "metadata": {
            "tags": []
          },
          "execution_count": 11
        }
      ]
    },
    {
      "cell_type": "code",
      "metadata": {
        "id": "s9QRRz0nXCdg",
        "colab_type": "code",
        "colab": {}
      },
      "source": [
        "'''\n",
        "function to combine all JSON files in the file_dir param and return as a single data frame\n",
        "parameters:\n",
        "  file_dir -> directory containing all JSON files to be combined\n",
        "  verbose -> flag to print progress and info about individual data files\n",
        "  file_col -> name of the column containing file name in the combined dataframe\n",
        "'''\n",
        "def combine_data(file_dir, verbose=False, file_col='ticker'):\n",
        "  dfs =[]\n",
        "  cols = set()\n",
        "  for filename in os.listdir(file_dir):\n",
        "    with open(file_dir / filename, \"r\") as file:\n",
        "      raw_file_data = json.load(file)\n",
        "    df  = pd.DataFrame(raw_file_data['messages'])\n",
        "    df[file_col] = filename.split('.')[0]\n",
        "    if verbose:\n",
        "      print(f'Shape of {file}: {df.shape}')\n",
        "      print(f'New columns: {set(df.columns).difference(cols)}')\n",
        "      print(f'Missing columns: {set(cols).difference(df.columns)}\\n')\n",
        "    cols.update(df.columns)\n",
        "    dfs.append(df)\n",
        "  return pd.concat(dfs, ignore_index=True,sort=False) # ignore_index to create new index, 'sort' when concatenating dataframes have different columns"
      ],
      "execution_count": 0,
      "outputs": []
    },
    {
      "cell_type": "code",
      "metadata": {
        "id": "_ufiWz2T4CpE",
        "colab_type": "code",
        "colab": {}
      },
      "source": [
        "def preprocess(text):\n",
        "  processed = re.sub(r'\\B\\$\\s?\\w+(\\.\\w+)?\\b\\s*', '', text)\n",
        "  processed = re.sub(r',\\s+','', processed) # commas not informative for sentiment\n",
        "  processed = re.sub(r'\\s', ' ', processed) # replace new line and tabspace with single space\n",
        "  processed = re.sub('http\\S+', '',  processed) # remove URLs\n",
        "  processed = html.unescape(processed) # unescape html text\n",
        "  return processed.strip()"
      ],
      "execution_count": 0,
      "outputs": []
    },
    {
      "cell_type": "code",
      "metadata": {
        "id": "2i2c3VXDovqd",
        "colab_type": "code",
        "colab": {}
      },
      "source": [
        "def flatten_data(df):\n",
        "  df['user_followers']  = df['user'].apply(lambda user: user['followers'])\n",
        "  df['user_following'] = df['user'].apply(lambda user: user['following'])\n",
        "  df['user_join_date'] = df['user'].apply(lambda user: user['join_date'])\n",
        "  df['user_ideas'] = df['user'].apply(lambda user: user['ideas'])\n",
        "  df['user_identity'] = df['user'].apply(lambda user: user['identity'])\n",
        "  df['user_like_count'] = df['user'].apply(lambda user: user['like_count'])\n",
        "  df['user_official'] = df['user'].apply(lambda user: user['official'])\n",
        "  df['user_wtchlst_count'] = df['user'].apply(lambda user: user['watchlist_stocks_count'])\n",
        "  df['username'] = df['user'].apply(lambda user: user['username'])\n",
        "  df['sentiment'] = df['entities'].apply(lambda e: e['sentiment']['basic'] if e['sentiment'] else None)\n",
        "  df['num_likes'] = df['likes'].apply(lambda l: (l['total'] if type(l) == dict else 0))\n",
        "  df['num_reshares'] = df['reshares'].apply(lambda l: (l['reshared_count'] if type(l) == dict else 0))\n",
        "  df['num_replies'] = df['conversation'].apply(lambda c: c['replies'] if type(c) == dict else 0)\n",
        "  df['day_counts'] = df['filters'].apply(lambda f: f['day_counts'] )\n",
        "  # TODO extract similar stats of resharer from reshare_message \n",
        "  return df"
      ],
      "execution_count": 0,
      "outputs": []
    },
    {
      "cell_type": "code",
      "metadata": {
        "id": "Lnq_T2tG4vuN",
        "colab_type": "code",
        "outputId": "3bdec356-baba-4461-98fa-cfc4e16f7c19",
        "colab": {
          "base_uri": "https://localhost:8080/",
          "height": 203
        }
      },
      "source": [
        "data = flatten_data(data)\n",
        "data['raw_body'] = data['body']\n",
        "data['body'] = data['body'].apply(preprocess)"
      ],
      "execution_count": 0,
      "outputs": [
        {
          "output_type": "error",
          "ename": "NameError",
          "evalue": "ignored",
          "traceback": [
            "\u001b[0;31m---------------------------------------------------------------------------\u001b[0m",
            "\u001b[0;31mNameError\u001b[0m                                 Traceback (most recent call last)",
            "\u001b[0;32m<ipython-input-8-ec79cb97ff63>\u001b[0m in \u001b[0;36m<module>\u001b[0;34m()\u001b[0m\n\u001b[0;32m----> 1\u001b[0;31m \u001b[0mdata\u001b[0m \u001b[0;34m=\u001b[0m \u001b[0mflatten_data\u001b[0m\u001b[0;34m(\u001b[0m\u001b[0mdata\u001b[0m\u001b[0;34m)\u001b[0m\u001b[0;34m\u001b[0m\u001b[0;34m\u001b[0m\u001b[0m\n\u001b[0m\u001b[1;32m      2\u001b[0m \u001b[0mdata\u001b[0m\u001b[0;34m[\u001b[0m\u001b[0;34m'raw_body'\u001b[0m\u001b[0;34m]\u001b[0m \u001b[0;34m=\u001b[0m \u001b[0mdata\u001b[0m\u001b[0;34m[\u001b[0m\u001b[0;34m'body'\u001b[0m\u001b[0;34m]\u001b[0m\u001b[0;34m\u001b[0m\u001b[0;34m\u001b[0m\u001b[0m\n\u001b[1;32m      3\u001b[0m \u001b[0mdata\u001b[0m\u001b[0;34m[\u001b[0m\u001b[0;34m'body'\u001b[0m\u001b[0;34m]\u001b[0m \u001b[0;34m=\u001b[0m \u001b[0mdata\u001b[0m\u001b[0;34m[\u001b[0m\u001b[0;34m'body'\u001b[0m\u001b[0;34m]\u001b[0m\u001b[0;34m.\u001b[0m\u001b[0mapply\u001b[0m\u001b[0;34m(\u001b[0m\u001b[0mpreprocess\u001b[0m\u001b[0;34m)\u001b[0m\u001b[0;34m\u001b[0m\u001b[0;34m\u001b[0m\u001b[0m\n",
            "\u001b[0;31mNameError\u001b[0m: name 'data' is not defined"
          ]
        }
      ]
    },
    {
      "cell_type": "code",
      "metadata": {
        "id": "kymtqWIbnTGd",
        "colab_type": "code",
        "colab": {}
      },
      "source": [
        "# filters, entities, mentioned_users, source\n",
        "# len([d for d in data['mentioned_users'] if len(d)>0])"
      ],
      "execution_count": 0,
      "outputs": []
    },
    {
      "cell_type": "code",
      "metadata": {
        "id": "JH4U3fe4-8E8",
        "colab_type": "code",
        "outputId": "42dcb6ce-1bdf-4a5a-81e6-7763af27e487",
        "colab": {
          "base_uri": "https://localhost:8080/",
          "height": 368
        }
      },
      "source": [
        "data.isnull().mean().sort_values(ascending=False).plot(kind='bar')"
      ],
      "execution_count": 0,
      "outputs": [
        {
          "output_type": "execute_result",
          "data": {
            "text/plain": [
              "<matplotlib.axes._subplots.AxesSubplot at 0x7f7ce4982978>"
            ]
          },
          "metadata": {
            "tags": []
          },
          "execution_count": 63
        },
        {
          "output_type": "display_data",
          "data": {
            "image/png": "[encoded data removed]",
            "text/plain": [
              "<Figure size 432x288 with 1 Axes>"
            ]
          },
          "metadata": {
            "tags": []
          }
        }
      ]
    },
    {
      "cell_type": "code",
      "metadata": {
        "id": "XkTtgvJNd3Ba",
        "colab_type": "code",
        "outputId": "e42a4767-6496-4567-b8c6-5000eb556e9d",
        "colab": {
          "base_uri": "https://localhost:8080/",
          "height": 383
        }
      },
      "source": [
        "data['username'].value_counts()[:50].plot(kind='bar')"
      ],
      "execution_count": 0,
      "outputs": [
        {
          "output_type": "execute_result",
          "data": {
            "text/plain": [
              "<matplotlib.axes._subplots.AxesSubplot at 0x7f7ce48b0550>"
            ]
          },
          "metadata": {
            "tags": []
          },
          "execution_count": 64
        },
        {
          "output_type": "display_data",
          "data": {
            "image/png": "[encoded data removed]",
            "text/plain": [
              "<Figure size 432x288 with 1 Axes>"
            ]
          },
          "metadata": {
            "tags": []
          }
        }
      ]
    },
    {
      "cell_type": "code",
      "metadata": {
        "id": "oRXSqFGK0vTb",
        "colab_type": "code",
        "outputId": "85215e73-6ff3-4d67-b7f8-246233c17ceb",
        "colab": {
          "base_uri": "https://localhost:8080/",
          "height": 311
        }
      },
      "source": [
        "data['sentiment'].value_counts(dropna=False).plot(kind='bar')"
      ],
      "execution_count": 0,
      "outputs": [
        {
          "output_type": "execute_result",
          "data": {
            "text/plain": [
              "<matplotlib.axes._subplots.AxesSubplot at 0x7f7ce435e470>"
            ]
          },
          "metadata": {
            "tags": []
          },
          "execution_count": 65
        },
        {
          "output_type": "display_data",
          "data": {
            "image/png": "[encoded data removed]",
            "text/plain": [
              "<Figure size 432x288 with 1 Axes>"
            ]
          },
          "metadata": {
            "tags": []
          }
        }
      ]
    },
    {
      "cell_type": "code",
      "metadata": {
        "id": "FDJXSR2NLyTO",
        "colab_type": "code",
        "outputId": "62006311-0330-4566-e728-f0950e257a40",
        "colab": {
          "base_uri": "https://localhost:8080/",
          "height": 531
        }
      },
      "source": [
        "data['char_length'] = data['body'].apply(lambda t:len(t))\n",
        "data['char_length'].plot.hist(bins=50)\n",
        "plt.show()\n",
        "data['word_length'] = data['body'].apply(lambda t:len(word_tokenize(t)))\n",
        "data['word_length'].plot.hist(bins=50)"
      ],
      "execution_count": 0,
      "outputs": [
        {
          "output_type": "display_data",
          "data": {
            "image/png": "[encoded data removed]",
            "text/plain": [
              "<Figure size 432x288 with 1 Axes>"
            ]
          },
          "metadata": {
            "tags": []
          }
        },
        {
          "output_type": "execute_result",
          "data": {
            "text/plain": [
              "<matplotlib.axes._subplots.AxesSubplot at 0x7f7ce40b7208>"
            ]
          },
          "metadata": {
            "tags": []
          },
          "execution_count": 66
        },
        {
          "output_type": "display_data",
          "data": {
            "image/png": "[encoded data removed]",
            "text/plain": [
              "<Figure size 432x288 with 1 Axes>"
            ]
          },
          "metadata": {
            "tags": []
          }
        }
      ]
    },
    {
      "cell_type": "code",
      "metadata": {
        "id": "HjcMGEvrDtTx",
        "colab_type": "code",
        "outputId": "1211fa89-9d12-48bc-dd19-3a8a799d7204",
        "colab": {
          "base_uri": "https://localhost:8080/",
          "height": 285
        }
      },
      "source": [
        "data['char_length'].value_counts().loc[list(range(30))].plot(kind='bar')"
      ],
      "execution_count": 0,
      "outputs": [
        {
          "output_type": "execute_result",
          "data": {
            "text/plain": [
              "<matplotlib.axes._subplots.AxesSubplot at 0x7f7ce431b8d0>"
            ]
          },
          "metadata": {
            "tags": []
          },
          "execution_count": 67
        },
        {
          "output_type": "display_data",
          "data": {
            "image/png": "[encoded data removed]",
            "text/plain": [
              "<Figure size 432x288 with 1 Axes>"
            ]
          },
          "metadata": {
            "tags": []
          }
        }
      ]
    },
    {
      "cell_type": "code",
      "metadata": {
        "id": "J48YyCDrNH7c",
        "colab_type": "code",
        "outputId": "a83c0eba-2b0d-4949-cdd0-01ea23d5d20a",
        "colab": {
          "base_uri": "https://localhost:8080/",
          "height": 34
        }
      },
      "source": [
        "data = data.loc[data['char_length'] >0,:] # drop rows with preprocessed text length < 0\n",
        "data = data.reset_index(drop=True) # reset the index from 0 after dropping rows\n",
        "data.shape"
      ],
      "execution_count": 0,
      "outputs": [
        {
          "output_type": "execute_result",
          "data": {
            "text/plain": [
              "(9712, 31)"
            ]
          },
          "metadata": {
            "tags": []
          },
          "execution_count": 68
        }
      ]
    },
    {
      "cell_type": "code",
      "metadata": {
        "id": "Xu0I9IgcBdU9",
        "colab_type": "code",
        "outputId": "befd9602-ab4a-46cf-c9c7-82b4a333574e",
        "colab": {
          "base_uri": "https://localhost:8080/",
          "height": 406
        }
      },
      "source": [
        "data.loc[data['char_length'] <10,['body']]"
      ],
      "execution_count": 0,
      "outputs": [
        {
          "output_type": "execute_result",
          "data": {
            "text/html": [
              "<div>\n",
              "<style scoped>\n",
              "    .dataframe tbody tr th:only-of-type {\n",
              "        vertical-align: middle;\n",
              "    }\n",
              "\n",
              "    .dataframe tbody tr th {\n",
              "        vertical-align: top;\n",
              "    }\n",
              "\n",
              "    .dataframe thead th {\n",
              "        text-align: right;\n",
              "    }\n",
              "</style>\n",
              "<table border=\"1\" class=\"dataframe\">\n",
              "  <thead>\n",
              "    <tr style=\"text-align: right;\">\n",
              "      <th></th>\n",
              "      <th>body</th>\n",
              "    </tr>\n",
              "  </thead>\n",
              "  <tbody>\n",
              "    <tr>\n",
              "      <th>1</th>\n",
              "      <td>📈</td>\n",
              "    </tr>\n",
              "    <tr>\n",
              "      <th>6</th>\n",
              "      <td>ANALYSIS</td>\n",
              "    </tr>\n",
              "    <tr>\n",
              "      <th>9</th>\n",
              "      <td>meatless.</td>\n",
              "    </tr>\n",
              "    <tr>\n",
              "      <th>20</th>\n",
              "      <td>before ER</td>\n",
              "    </tr>\n",
              "    <tr>\n",
              "      <th>102</th>\n",
              "      <td>.</td>\n",
              "    </tr>\n",
              "    <tr>\n",
              "      <th>...</th>\n",
              "      <td>...</td>\n",
              "    </tr>\n",
              "    <tr>\n",
              "      <th>9587</th>\n",
              "      <td>So true</td>\n",
              "    </tr>\n",
              "    <tr>\n",
              "      <th>9589</th>\n",
              "      <td>LOL</td>\n",
              "    </tr>\n",
              "    <tr>\n",
              "      <th>9669</th>\n",
              "      <td>!</td>\n",
              "    </tr>\n",
              "    <tr>\n",
              "      <th>9671</th>\n",
              "      <td>🇺🇸🙏💪</td>\n",
              "    </tr>\n",
              "    <tr>\n",
              "      <th>9696</th>\n",
              "      <td>🍏🍏🍏Monday</td>\n",
              "    </tr>\n",
              "  </tbody>\n",
              "</table>\n",
              "<p>393 rows × 1 columns</p>\n",
              "</div>"
            ],
            "text/plain": [
              "           body\n",
              "1             📈\n",
              "6      ANALYSIS\n",
              "9     meatless.\n",
              "20    before ER\n",
              "102           .\n",
              "...         ...\n",
              "9587    So true\n",
              "9589        LOL\n",
              "9669          !\n",
              "9671       🇺🇸🙏💪\n",
              "9696  🍏🍏🍏Monday\n",
              "\n",
              "[393 rows x 1 columns]"
            ]
          },
          "metadata": {
            "tags": []
          },
          "execution_count": 69
        }
      ]
    },
    {
      "cell_type": "code",
      "metadata": {
        "id": "SlSu3ox0NJW9",
        "colab_type": "code",
        "outputId": "0f4e9e3e-7e1f-4e68-bf70-10a76f8edf7c",
        "colab": {
          "base_uri": "https://localhost:8080/",
          "height": 70
        }
      },
      "source": [
        "text = data.iloc[9669]['raw_body']\n",
        "print(text)\n",
        "print(len(text))\n",
        "preprocess(text)"
      ],
      "execution_count": 0,
      "outputs": [
        {
          "output_type": "stream",
          "text": [
            "$AAPL !\n",
            "7\n"
          ],
          "name": "stdout"
        },
        {
          "output_type": "execute_result",
          "data": {
            "text/plain": [
              "'!'"
            ]
          },
          "metadata": {
            "tags": []
          },
          "execution_count": 70
        }
      ]
    },
    {
      "cell_type": "code",
      "metadata": {
        "id": "bTuT-OHAYC9j",
        "colab_type": "code",
        "outputId": "ab4e6f2d-2802-4b9a-c13e-7467329c77a2",
        "colab": {
          "base_uri": "https://localhost:8080/",
          "height": 301
        }
      },
      "source": [
        "all_data = combine_data(stocktwits_dir, verbose=False)\n",
        "print(all_data.shape)\n",
        "all_data['ticker'].value_counts()"
      ],
      "execution_count": 0,
      "outputs": [
        {
          "output_type": "stream",
          "text": [
            "(140509, 16)\n"
          ],
          "name": "stdout"
        },
        {
          "output_type": "execute_result",
          "data": {
            "text/plain": [
              "TWTR     10050\n",
              "FB       10050\n",
              "TSLA     10050\n",
              "SPY      10050\n",
              "GOOGL    10050\n",
              "MSFT     10050\n",
              "AMZN     10050\n",
              "VIX      10050\n",
              "DIA      10049\n",
              "AMD      10049\n",
              "INTC     10049\n",
              "BABA     10049\n",
              "YHOO     10043\n",
              "AAPL      9870\n",
              "Name: ticker, dtype: int64"
            ]
          },
          "metadata": {
            "tags": []
          },
          "execution_count": 275
        }
      ]
    },
    {
      "cell_type": "code",
      "metadata": {
        "id": "FVqmntE5l7u7",
        "colab_type": "code",
        "outputId": "456b97d4-a7c9-425e-bbea-ebc83186629a",
        "colab": {
          "base_uri": "https://localhost:8080/",
          "height": 300
        }
      },
      "source": [
        "all_data = flatten_data(all_data)\n",
        "all_data['raw_body'] = all_data['body']\n",
        "all_data['body'] = all_data['body'].apply(preprocess)\n",
        "all_data['char_length'] = all_data['body'].apply(lambda t:len(t))\n",
        "all_data['char_length'].plot.hist(bins=50)\n",
        "print(all_data.shape)\n",
        "all_data = all_data.loc[all_data['char_length'] >0,:] # drop rows with preprocessed text length < 0\n",
        "all_data = all_data.reset_index(drop=True) # reset the index from 0 after dropping rows\n",
        "all_data.shape"
      ],
      "execution_count": 0,
      "outputs": [
        {
          "output_type": "stream",
          "text": [
            "(137207, 32)\n"
          ],
          "name": "stdout"
        },
        {
          "output_type": "execute_result",
          "data": {
            "text/plain": [
              "(137207, 32)"
            ]
          },
          "metadata": {
            "tags": []
          },
          "execution_count": 46
        },
        {
          "output_type": "display_data",
          "data": {
            "image/png": "[encoded data removed]",
            "text/plain": [
              "<Figure size 432x288 with 1 Axes>"
            ]
          },
          "metadata": {
            "tags": []
          }
        }
      ]
    },
    {
      "cell_type": "code",
      "metadata": {
        "id": "pkp59lWHINrN",
        "colab_type": "code",
        "colab": {}
      },
      "source": [
        "# all_data = combine_data(stocktwits_dir, verbose=False)\n",
        "all_data.to_pickle(\"stocktwits_clean.pkl\")"
      ],
      "execution_count": 0,
      "outputs": []
    },
    {
      "cell_type": "code",
      "metadata": {
        "id": "QxZljCJ2gSPF",
        "colab_type": "code",
        "outputId": "1e095f9a-2a20-4ab9-bf40-44330a70eb6b",
        "colab": {
          "base_uri": "https://localhost:8080/",
          "height": 34
        }
      },
      "source": [
        "all_data = pd.read_pickle(\"stocktwits.pkl\")\n",
        "# all_data = pd.read_pickle(\"stocktwits_sentiment_subjectivity_Jan-30-2020.pkl\")\n",
        "print(all_data.shape)"
      ],
      "execution_count": 0,
      "outputs": [
        {
          "output_type": "stream",
          "text": [
            "(140509, 31)\n"
          ],
          "name": "stdout"
        }
      ]
    },
    {
      "cell_type": "code",
      "metadata": {
        "id": "sBe_MClhe3ps",
        "colab_type": "code",
        "outputId": "27398bcf-bcdd-4343-f03e-7b08404ea327",
        "colab": {
          "base_uri": "https://localhost:8080/",
          "height": 141
        }
      },
      "source": [
        "sent_data = all_data.loc[:,['body, raw_body', 'sentiment']]"
      ],
      "execution_count": 0,
      "outputs": [
        {
          "output_type": "stream",
          "text": [
            "/usr/local/lib/python3.6/dist-packages/pandas/core/indexing.py:1418: FutureWarning: \n",
            "Passing list-likes to .loc or [] with any missing label will raise\n",
            "KeyError in the future, you can use .reindex() as an alternative.\n",
            "\n",
            "See the documentation here:\n",
            "https://pandas.pydata.org/pandas-docs/stable/user_guide/indexing.html#deprecate-loc-reindex-listlike\n",
            "  return self._getitem_tuple(key)\n"
          ],
          "name": "stderr"
        }
      ]
    },
    {
      "cell_type": "code",
      "metadata": {
        "id": "UYWX90eA4kUN",
        "colab_type": "code",
        "outputId": "20cd3bb9-448b-4604-b98c-c251aadcb49f",
        "colab": {
          "base_uri": "https://localhost:8080/",
          "height": 34
        }
      },
      "source": [
        "sent_data.columns"
      ],
      "execution_count": 0,
      "outputs": [
        {
          "output_type": "execute_result",
          "data": {
            "text/plain": [
              "Index(['body, raw_body', 'sentiment'], dtype='object')"
            ]
          },
          "metadata": {
            "tags": []
          },
          "execution_count": 12
        }
      ]
    },
    {
      "cell_type": "code",
      "metadata": {
        "id": "JcKvTkfe4pAA",
        "colab_type": "code",
        "colab": {}
      },
      "source": [
        ""
      ],
      "execution_count": 0,
      "outputs": []
    }
  ]
}