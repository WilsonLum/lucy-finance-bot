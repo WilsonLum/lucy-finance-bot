{
  "nbformat": 4,
  "nbformat_minor": 0,
  "metadata": {
    "colab": {
      "name": "SentimentAnalysis.ipynb",
      "provenance": [],
      "collapsed_sections": [],
      "toc_visible": true
    },
    "kernelspec": {
      "name": "python3",
      "display_name": "Python 3"
    },
    "accelerator": "GPU"
  },
  "cells": [
    {
      "cell_type": "code",
      "metadata": {
        "id": "OWJaBTqj5YQ9",
        "colab_type": "code",
        "outputId": "3dc9201e-efa3-4cfa-ac3c-d553a5ccd89f",
        "colab": {
          "base_uri": "https://localhost:8080/",
          "height": 496
        }
      },
      "source": [
        "# Ignore this cell\n",
        "import os\n",
        "from google.colab import drive\n",
        "drive.mount('/content/drive')\n",
        "os.chdir('/content/drive/My Drive/datasets/finance_social/Dataset')\n",
        "os.listdir()"
      ],
      "execution_count": 0,
      "outputs": [
        {
          "output_type": "stream",
          "text": [
            "Go to this URL in a browser: https://accounts.google.com/o/oauth2/auth?client_id=947318989803-6bn6qk8qdgf4n4g3pfee6491hc0brc4i.apps.googleusercontent.com&redirect_uri=urn%3aietf%3awg%3aoauth%3a2.0%3aoob&response_type=code&scope=email%20https%3a%2f%2fwww.googleapis.com%2fauth%2fdocs.test%20https%3a%2f%2fwww.googleapis.com%2fauth%2fdrive%20https%3a%2f%2fwww.googleapis.com%2fauth%2fdrive.photos.readonly%20https%3a%2f%2fwww.googleapis.com%2fauth%2fpeopleapi.readonly\n",
            "\n",
            "Enter your authorization code:\n",
            "··········\n",
            "Mounted at /content/drive\n"
          ],
          "name": "stdout"
        },
        {
          "output_type": "execute_result",
          "data": {
            "text/plain": [
              "['StockTwits',\n",
              " 'Twitter',\n",
              " 'ReutersNews',\n",
              " 'twiters_label_data_Feb-02-2020.xlsx',\n",
              " 'Stocktwits Label Model training with twiter data.ipynb',\n",
              " 'github data',\n",
              " 'INTENTS and UTTERANCE.yaml',\n",
              " 'Keras_FNN_model.json',\n",
              " 'finalized_Keras_model.sav',\n",
              " 'Stocktwits Label Model training with twiter data - Final.ipynb',\n",
              " 'Keras KNN test result 1.PNG',\n",
              " 'Keras KNN test result 1a.PNG',\n",
              " 'finalized_Keras_model_1.sav',\n",
              " 'Keras_FNN_model_1.json',\n",
              " 'Keras_FNN_model.h5',\n",
              " 'Stocktwits Keras FNN for sentiment analysis-Final.ipynb',\n",
              " 'finalized_SVM_model.sav',\n",
              " 'chatbot_training.yaml',\n",
              " 'stocktwits_sentiment_subjectivity_Feb-01-2020_p.xlsx',\n",
              " 'twitter_ul.npy',\n",
              " 'FinancialPrediction',\n",
              " 'variant_filterer.csv']"
            ]
          },
          "metadata": {
            "tags": []
          },
          "execution_count": 1
        }
      ]
    },
    {
      "cell_type": "code",
      "metadata": {
        "id": "FabiZ27x5eaN",
        "colab_type": "code",
        "outputId": "5846d270-99bd-456c-f930-e86924c8d061",
        "colab": {
          "base_uri": "https://localhost:8080/",
          "height": 131
        }
      },
      "source": [
        "from pathlib import Path\n",
        "import json\n",
        "import re\n",
        "import os\n",
        "import pandas as pd\n",
        "import numpy as np\n",
        "import matplotlib.pyplot as plt\n",
        "import nltk\n",
        "import html\n",
        "from sklearn import utils\n",
        "from sklearn.model_selection import train_test_split\n",
        "from sklearn.metrics import classification_report, confusion_matrix, accuracy_score  \n",
        "from sklearn.svm import SVC\n",
        "from sklearn.linear_model import LogisticRegression\n",
        "from sklearn.neural_network import MLPClassifier\n",
        "from keras.callbacks import ModelCheckpoint,CSVLogger\n",
        "import spacy\n",
        "import keras\n",
        "from keras import models\n",
        "from keras import layers\n",
        "from keras import regularizers\n",
        "print (keras.__version__)\n",
        "import warnings\n",
        "warnings.filterwarnings('ignore')\n",
        "%matplotlib inline\n",
        "\n",
        "nltk.download('punkt')\n",
        "from nltk import sent_tokenize, word_tokenize, wordpunct_tokenize"
      ],
      "execution_count": 0,
      "outputs": [
        {
          "output_type": "stream",
          "text": [
            "Using TensorFlow backend.\n"
          ],
          "name": "stderr"
        },
        {
          "output_type": "display_data",
          "data": {
            "text/html": [
              "<p style=\"color: red;\">\n",
              "The default version of TensorFlow in Colab will switch to TensorFlow 2.x on the 27th of March, 2020.<br>\n",
              "We recommend you <a href=\"https://www.tensorflow.org/guide/migrate\" target=\"_blank\">upgrade</a> now\n",
              "or ensure your notebook will continue to use TensorFlow 1.x via the <code>%tensorflow_version 1.x</code> magic:\n",
              "<a href=\"https://colab.research.google.com/notebooks/tensorflow_version.ipynb\" target=\"_blank\">more info</a>.</p>\n"
            ],
            "text/plain": [
              "<IPython.core.display.HTML object>"
            ]
          },
          "metadata": {
            "tags": []
          }
        },
        {
          "output_type": "stream",
          "text": [
            "2.2.5\n",
            "[nltk_data] Downloading package punkt to /root/nltk_data...\n",
            "[nltk_data]   Unzipping tokenizers/punkt.zip.\n"
          ],
          "name": "stdout"
        }
      ]
    },
    {
      "cell_type": "code",
      "metadata": {
        "id": "HhWonUrP5gc2",
        "colab_type": "code",
        "colab": {}
      },
      "source": [
        "file_path = Path(\"StockTwits/AAPL.json\")\n",
        "stocktwits_dir = Path(\"StockTwits\")\n",
        "twitter_dir = Path(\"Twitter\")\n",
        "stocktwits_filename = 'stocktwits.pkl'"
      ],
      "execution_count": 0,
      "outputs": []
    },
    {
      "cell_type": "code",
      "metadata": {
        "id": "Wy5IkEKu5l55",
        "colab_type": "code",
        "outputId": "6dba7953-133c-4963-e002-f4eb372a01c3",
        "colab": {
          "base_uri": "https://localhost:8080/",
          "height": 34
        }
      },
      "source": [
        "all_data = pd.read_pickle(stocktwits_filename)\n",
        "print(all_data.shape)"
      ],
      "execution_count": 0,
      "outputs": [
        {
          "output_type": "stream",
          "text": [
            "(140509, 31)\n"
          ],
          "name": "stdout"
        }
      ]
    },
    {
      "cell_type": "code",
      "metadata": {
        "id": "3hV0p8O49PA0",
        "colab_type": "code",
        "outputId": "2b678c51-d1d8-4b3f-dbe4-4685034fbc15",
        "colab": {
          "base_uri": "https://localhost:8080/",
          "height": 34
        }
      },
      "source": [
        "all_data['char_length'] = all_data['body'].apply(lambda x: len(x))\n",
        "all_data = all_data.loc[all_data['char_length'] >0,:] # drop rows with preprocessed text length < 0\n",
        "all_data = all_data.reset_index(drop=True) # reset the index from 0 after dropping rows\n",
        "all_data.shape"
      ],
      "execution_count": 0,
      "outputs": [
        {
          "output_type": "execute_result",
          "data": {
            "text/plain": [
              "(137996, 32)"
            ]
          },
          "metadata": {
            "tags": []
          },
          "execution_count": 7
        }
      ]
    },
    {
      "cell_type": "code",
      "metadata": {
        "id": "jB5pGmlH6s35",
        "colab_type": "code",
        "colab": {}
      },
      "source": [
        "def preprocess(text):\n",
        "  processed = re.sub(r'\\B\\$\\s?\\w+(\\.\\w+)?\\b\\s*', '', text)\n",
        "  processed = re.sub(r',\\s+','', processed) # commas not informative for sentiment\n",
        "  processed = re.sub(r'\\s', ' ', processed) # replace new line and tabspace with single space\n",
        "  processed = re.sub('http\\S+', '',  processed) # remove URLs\n",
        "  processed = html.unescape(processed) # unescape html text\n",
        "  return processed.strip()"
      ],
      "execution_count": 0,
      "outputs": []
    },
    {
      "cell_type": "code",
      "metadata": {
        "id": "8rr_qXnc55UZ",
        "colab_type": "code",
        "colab": {}
      },
      "source": [
        "sent_data = all_data.loc[:, ['id', 'ticker', 'symbols', 'body','sentiment', 'raw_body']]\n",
        "sent_data['body'] = sent_data['body'].apply(preprocess)"
      ],
      "execution_count": 0,
      "outputs": []
    },
    {
      "cell_type": "code",
      "metadata": {
        "id": "pZj8lGRz6Lla",
        "colab_type": "code",
        "outputId": "da9c535d-ef42-475f-e3f7-44637ba1ae7a",
        "colab": {
          "base_uri": "https://localhost:8080/",
          "height": 323
        }
      },
      "source": [
        "sent_data.isnull().mean().sort_values(ascending=False).plot(kind='bar')"
      ],
      "execution_count": 0,
      "outputs": [
        {
          "output_type": "execute_result",
          "data": {
            "text/plain": [
              "<matplotlib.axes._subplots.AxesSubplot at 0x7f732160d048>"
            ]
          },
          "metadata": {
            "tags": []
          },
          "execution_count": 10
        },
        {
          "output_type": "display_data",
          "data": {
            "image/png": "[encoded data removed]",
            "text/plain": [
              "<Figure size 432x288 with 1 Axes>"
            ]
          },
          "metadata": {
            "tags": []
          }
        }
      ]
    },
    {
      "cell_type": "code",
      "metadata": {
        "id": "GqEj1dvR-FaG",
        "colab_type": "code",
        "outputId": "63a703ca-89ad-4d8b-ff20-582ff465efb8",
        "colab": {
          "base_uri": "https://localhost:8080/",
          "height": 310
        }
      },
      "source": [
        "sent_data = sent_data.dropna(subset=['sentiment'])\n",
        "sent_data = sent_data.reset_index(drop=True) # reset the index from 0 after dropping rows\n",
        "sent_data['sentiment'].value_counts(dropna=False).plot(kind='bar')\n",
        "sent_data.shape"
      ],
      "execution_count": 0,
      "outputs": [
        {
          "output_type": "execute_result",
          "data": {
            "text/plain": [
              "(54435, 6)"
            ]
          },
          "metadata": {
            "tags": []
          },
          "execution_count": 11
        },
        {
          "output_type": "display_data",
          "data": {
            "image/png": "[encoded data removed]",
            "text/plain": [
              "<Figure size 432x288 with 1 Axes>"
            ]
          },
          "metadata": {
            "tags": []
          }
        }
      ]
    },
    {
      "cell_type": "code",
      "metadata": {
        "id": "cPssWzoMBvo8",
        "colab_type": "code",
        "outputId": "11016844-1097-4a16-9d21-fe435e23e8ef",
        "colab": {
          "base_uri": "https://localhost:8080/",
          "height": 310
        }
      },
      "source": [
        "bullish = sent_data[sent_data['sentiment'] == 'Bullish']\n",
        "bullish.shape\n",
        "bearish = sent_data[sent_data['sentiment'] == 'Bearish']\n",
        "bearish.shape\n",
        "bearish_upsampled = utils.resample(bearish, \n",
        "                                 replace=True,     # sample with replacement\n",
        "                                 n_samples=bullish.shape[0],    # to match majority class\n",
        "                                 random_state=42)\n",
        "sent_data = pd.concat([bullish,bearish_upsampled])\n",
        "sent_data = sent_data.reset_index(drop=True) # reset the index from 0 after dropping rows\n",
        "sent_data['sentiment'].value_counts(dropna=False).plot(kind='bar')"
      ],
      "execution_count": 0,
      "outputs": [
        {
          "output_type": "execute_result",
          "data": {
            "text/plain": [
              "<matplotlib.axes._subplots.AxesSubplot at 0x7f73377aec88>"
            ]
          },
          "metadata": {
            "tags": []
          },
          "execution_count": 12
        },
        {
          "output_type": "display_data",
          "data": {
            "image/png": "[encoded data removed]",
            "text/plain": [
              "<Figure size 432x288 with 1 Axes>"
            ]
          },
          "metadata": {
            "tags": []
          }
        }
      ]
    },
    {
      "cell_type": "markdown",
      "metadata": {
        "id": "eycW36z0PwG9",
        "colab_type": "text"
      },
      "source": [
        "## 1.1 Word2Vec"
      ]
    },
    {
      "cell_type": "code",
      "metadata": {
        "id": "y8JoNWrJJic2",
        "colab_type": "code",
        "outputId": "6e916209-b093-44cb-f451-a03effce02e6",
        "colab": {
          "base_uri": "https://localhost:8080/",
          "height": 241
        }
      },
      "source": [
        "!python -m spacy download en_core_web_md\n",
        "import en_core_web_md\n",
        "nlp = en_core_web_md.load()"
      ],
      "execution_count": 0,
      "outputs": [
        {
          "output_type": "stream",
          "text": [
            "Collecting en_core_web_md==2.1.0\n",
            "\u001b[?25l  Downloading https://github.com/explosion/spacy-models/releases/download/en_core_web_md-2.1.0/en_core_web_md-2.1.0.tar.gz (95.4MB)\n",
            "\u001b[K     |████████████████████████████████| 95.4MB 58.3MB/s \n",
            "\u001b[?25hBuilding wheels for collected packages: en-core-web-md\n",
            "  Building wheel for en-core-web-md (setup.py) ... \u001b[?25l\u001b[?25hdone\n",
            "  Created wheel for en-core-web-md: filename=en_core_web_md-2.1.0-cp36-none-any.whl size=97126236 sha256=c01955ff2d1d9173234595a87c74af16a82379ab311a86c55eb9fdb2c30cb294\n",
            "  Stored in directory: /tmp/pip-ephem-wheel-cache-1dnql995/wheels/c1/2c/5f/fd7f3ec336bf97b0809c86264d2831c5dfb00fc2e239d1bb01\n",
            "Successfully built en-core-web-md\n",
            "Installing collected packages: en-core-web-md\n",
            "Successfully installed en-core-web-md-2.1.0\n",
            "\u001b[38;5;2m✔ Download and installation successful\u001b[0m\n",
            "You can now load the model via spacy.load('en_core_web_md')\n"
          ],
          "name": "stdout"
        }
      ]
    },
    {
      "cell_type": "code",
      "metadata": {
        "id": "jrRVUnajRsBb",
        "colab_type": "code",
        "outputId": "de0627cc-d731-422e-e84c-c9dccfde09d5",
        "colab": {
          "base_uri": "https://localhost:8080/",
          "height": 34
        }
      },
      "source": [
        "# docs = sent_data['body'].apply(lambda x: nlp(x))\n",
        "# docs.to_pickle('stocktwits_spacy.pkl')\n",
        "docs = pd.read_pickle('stocktwits_spacy.pkl')\n",
        "docs.shape"
      ],
      "execution_count": 0,
      "outputs": [
        {
          "output_type": "execute_result",
          "data": {
            "text/plain": [
              "(85200,)"
            ]
          },
          "metadata": {
            "tags": []
          },
          "execution_count": 14
        }
      ]
    },
    {
      "cell_type": "code",
      "metadata": {
        "id": "3-y3rlxfTfgl",
        "colab_type": "code",
        "outputId": "88233a09-72c2-4b7b-a401-eeca45a84161",
        "colab": {
          "base_uri": "https://localhost:8080/",
          "height": 34
        }
      },
      "source": [
        "X = docs.apply(lambda x: x.vector)\n",
        "X = np.array(X.tolist())\n",
        "# y = sent_data['sentiment'].replace({'Bullish':1,'Bearish':-1}).astype('float32')\n",
        "y = pd.get_dummies(sent_data['sentiment'])\n",
        "print(X.shape, y.shape)"
      ],
      "execution_count": 0,
      "outputs": [
        {
          "output_type": "stream",
          "text": [
            "(85200, 300) (85200, 2)\n"
          ],
          "name": "stdout"
        }
      ]
    },
    {
      "cell_type": "code",
      "metadata": {
        "id": "RX9a9gKv41P6",
        "colab_type": "code",
        "colab": {}
      },
      "source": [
        "X_train, X_test, y_train, y_test = train_test_split(X, y, test_size=0.2, random_state=42,stratify=y)"
      ],
      "execution_count": 0,
      "outputs": []
    },
    {
      "cell_type": "code",
      "metadata": {
        "id": "uT7lgmZ876lN",
        "colab_type": "code",
        "colab": {}
      },
      "source": [
        "svm_clf=SVC(kernel=\"rbf\",gamma='scale', C=1) \n",
        "svm_clf.fit(X_train,y_train)\n",
        "y_pred = svm_clf.predict(X_test)\n",
        "\n",
        "\n",
        "print(confusion_matrix(y_test,y_pred))  \n",
        "print(classification_report(y_test,y_pred))  \n",
        "print(accuracy_score(y_test, y_pred)) "
      ],
      "execution_count": 0,
      "outputs": []
    },
    {
      "cell_type": "code",
      "metadata": {
        "id": "m4CJuO95GS2B",
        "colab_type": "code",
        "colab": {}
      },
      "source": [
        "W2V_DIM=X_train.shape[-1]\n",
        "BATCH_SIZE=32\n",
        "NUM_EPOCHS=50"
      ],
      "execution_count": 0,
      "outputs": []
    },
    {
      "cell_type": "code",
      "metadata": {
        "id": "DlvDmYfE9OPq",
        "colab_type": "code",
        "outputId": "0cf61c21-039d-4168-b269-3bbc53ca2eff",
        "colab": {
          "base_uri": "https://localhost:8080/",
          "height": 411
        }
      },
      "source": [
        "model = models.Sequential()\n",
        "model.add(layers.Dense(96, activation='relu', input_shape=(W2V_DIM,)))\n",
        "model.add(layers.Dense(64, activation='relu'))\n",
        "model.add(layers.Dense(64, activation='relu'))\n",
        "\n",
        "model.add(layers.Dense(32, activation='relu'))\n",
        "model.add(layers.Dense(2, activation='softmax'))\n",
        "model.summary()"
      ],
      "execution_count": 0,
      "outputs": [
        {
          "output_type": "stream",
          "text": [
            "WARNING:tensorflow:From /usr/local/lib/python3.6/dist-packages/keras/backend/tensorflow_backend.py:541: The name tf.placeholder is deprecated. Please use tf.compat.v1.placeholder instead.\n",
            "\n",
            "WARNING:tensorflow:From /usr/local/lib/python3.6/dist-packages/keras/backend/tensorflow_backend.py:4432: The name tf.random_uniform is deprecated. Please use tf.random.uniform instead.\n",
            "\n",
            "Model: \"sequential_2\"\n",
            "_________________________________________________________________\n",
            "Layer (type)                 Output Shape              Param #   \n",
            "=================================================================\n",
            "dense_1 (Dense)              (None, 96)                28896     \n",
            "_________________________________________________________________\n",
            "dense_2 (Dense)              (None, 64)                6208      \n",
            "_________________________________________________________________\n",
            "dense_3 (Dense)              (None, 64)                4160      \n",
            "_________________________________________________________________\n",
            "dense_4 (Dense)              (None, 32)                2080      \n",
            "_________________________________________________________________\n",
            "dense_5 (Dense)              (None, 2)                 66        \n",
            "=================================================================\n",
            "Total params: 41,410\n",
            "Trainable params: 41,410\n",
            "Non-trainable params: 0\n",
            "_________________________________________________________________\n"
          ],
          "name": "stdout"
        }
      ]
    },
    {
      "cell_type": "code",
      "metadata": {
        "id": "R-mSVxSgNX_Z",
        "colab_type": "code",
        "colab": {}
      },
      "source": [
        "filepath=\"weights-improvement-{val_acc:.2f}-{epoch:02d}.hdf5\"\n",
        "checkpoint      = ModelCheckpoint('/content/drive/My Drive/logs/'+filepath, \n",
        "                                  monitor='val_acc', verbose=1, save_best_only=True, save_weights_only=False, mode='max')\n",
        "csv_logger      = CSVLogger(\"image_classifier\" +'.csv')\n",
        "callbacks = [checkpoint,csv_logger]\n",
        "optim = keras.optimizers.Adam(lr=0.001, beta_1=0.9, beta_2=0.999, amsgrad=False)\n",
        "model.compile(optimizer=optim, loss='categorical_crossentropy', metrics=['accuracy'])"
      ],
      "execution_count": 0,
      "outputs": []
    },
    {
      "cell_type": "code",
      "metadata": {
        "id": "9uXncEtBNduJ",
        "colab_type": "code",
        "outputId": "8cff0998-e224-409f-a984-855678b8931f",
        "colab": {
          "base_uri": "https://localhost:8080/",
          "height": 1000
        }
      },
      "source": [
        "history = model.fit(X_train, y_train, epochs=NUM_EPOCHS, batch_size=BATCH_SIZE, \n",
        "               validation_split=0.2, verbose=2,callbacks=callbacks)"
      ],
      "execution_count": 0,
      "outputs": [
        {
          "output_type": "stream",
          "text": [
            "Train on 54528 samples, validate on 13632 samples\n",
            "Epoch 1/50\n",
            " - 10s - loss: 0.0892 - acc: 0.9638 - val_loss: 0.7095 - val_acc: 0.8592\n",
            "\n",
            "Epoch 00001: val_acc did not improve from 0.86950\n",
            "Epoch 2/50\n",
            " - 10s - loss: 0.0834 - acc: 0.9659 - val_loss: 0.6806 - val_acc: 0.8722\n",
            "\n",
            "Epoch 00002: val_acc improved from 0.86950 to 0.87221, saving model to /content/drive/My Drive/logs/weights-improvement-02-0.87.hdf5\n",
            "Epoch 3/50\n",
            " - 10s - loss: 0.0857 - acc: 0.9654 - val_loss: 0.6555 - val_acc: 0.8661\n",
            "\n",
            "Epoch 00003: val_acc did not improve from 0.87221\n",
            "Epoch 4/50\n",
            " - 10s - loss: 0.0827 - acc: 0.9653 - val_loss: 0.6966 - val_acc: 0.8677\n",
            "\n",
            "Epoch 00004: val_acc did not improve from 0.87221\n",
            "Epoch 5/50\n",
            " - 9s - loss: 0.0800 - acc: 0.9671 - val_loss: 0.7643 - val_acc: 0.8625\n",
            "\n",
            "Epoch 00005: val_acc did not improve from 0.87221\n",
            "Epoch 6/50\n",
            " - 10s - loss: 0.0823 - acc: 0.9666 - val_loss: 0.6531 - val_acc: 0.8695\n",
            "\n",
            "Epoch 00006: val_acc did not improve from 0.87221\n",
            "Epoch 7/50\n",
            " - 9s - loss: 0.0765 - acc: 0.9688 - val_loss: 0.6777 - val_acc: 0.8696\n",
            "\n",
            "Epoch 00007: val_acc did not improve from 0.87221\n",
            "Epoch 8/50\n",
            " - 9s - loss: 0.0784 - acc: 0.9672 - val_loss: 0.6996 - val_acc: 0.8761\n",
            "\n",
            "Epoch 00008: val_acc improved from 0.87221 to 0.87610, saving model to /content/drive/My Drive/logs/weights-improvement-08-0.88.hdf5\n",
            "Epoch 9/50\n",
            " - 10s - loss: 0.0750 - acc: 0.9694 - val_loss: 0.6622 - val_acc: 0.8746\n",
            "\n",
            "Epoch 00009: val_acc did not improve from 0.87610\n",
            "Epoch 10/50\n",
            " - 9s - loss: 0.0751 - acc: 0.9694 - val_loss: 0.7241 - val_acc: 0.8718\n",
            "\n",
            "Epoch 00010: val_acc did not improve from 0.87610\n",
            "Epoch 11/50\n",
            " - 9s - loss: 0.0719 - acc: 0.9706 - val_loss: 0.6958 - val_acc: 0.8806\n",
            "\n",
            "Epoch 00011: val_acc improved from 0.87610 to 0.88065, saving model to /content/drive/My Drive/logs/weights-improvement-11-0.88.hdf5\n",
            "Epoch 12/50\n",
            " - 10s - loss: 0.0761 - acc: 0.9697 - val_loss: 0.7324 - val_acc: 0.8685\n",
            "\n",
            "Epoch 00012: val_acc did not improve from 0.88065\n",
            "Epoch 13/50\n",
            " - 10s - loss: 0.0730 - acc: 0.9700 - val_loss: 0.8862 - val_acc: 0.8527\n",
            "\n",
            "Epoch 00013: val_acc did not improve from 0.88065\n",
            "Epoch 14/50\n",
            " - 10s - loss: 0.0710 - acc: 0.9710 - val_loss: 0.7285 - val_acc: 0.8712\n",
            "\n",
            "Epoch 00014: val_acc did not improve from 0.88065\n",
            "Epoch 15/50\n",
            " - 10s - loss: 0.0687 - acc: 0.9719 - val_loss: 0.7611 - val_acc: 0.8768\n",
            "\n",
            "Epoch 00015: val_acc did not improve from 0.88065\n",
            "Epoch 16/50\n",
            " - 10s - loss: 0.0683 - acc: 0.9718 - val_loss: 0.7569 - val_acc: 0.8700\n",
            "\n",
            "Epoch 00016: val_acc did not improve from 0.88065\n",
            "Epoch 17/50\n",
            " - 9s - loss: 0.0686 - acc: 0.9720 - val_loss: 0.7035 - val_acc: 0.8793\n",
            "\n",
            "Epoch 00017: val_acc did not improve from 0.88065\n",
            "Epoch 18/50\n",
            " - 10s - loss: 0.0688 - acc: 0.9719 - val_loss: 0.7055 - val_acc: 0.8784\n",
            "\n",
            "Epoch 00018: val_acc did not improve from 0.88065\n",
            "Epoch 19/50\n",
            " - 10s - loss: 0.0660 - acc: 0.9727 - val_loss: 0.7839 - val_acc: 0.8728\n",
            "\n",
            "Epoch 00019: val_acc did not improve from 0.88065\n",
            "Epoch 20/50\n",
            " - 10s - loss: 0.0655 - acc: 0.9732 - val_loss: 0.7551 - val_acc: 0.8742\n",
            "\n",
            "Epoch 00020: val_acc did not improve from 0.88065\n",
            "Epoch 21/50\n",
            " - 10s - loss: 0.0652 - acc: 0.9737 - val_loss: 0.7238 - val_acc: 0.8745\n",
            "\n",
            "Epoch 00021: val_acc did not improve from 0.88065\n",
            "Epoch 22/50\n",
            " - 10s - loss: 0.0645 - acc: 0.9735 - val_loss: 0.7427 - val_acc: 0.8741\n",
            "\n",
            "Epoch 00022: val_acc did not improve from 0.88065\n",
            "Epoch 23/50\n",
            " - 10s - loss: 0.0674 - acc: 0.9723 - val_loss: 0.7556 - val_acc: 0.8727\n",
            "\n",
            "Epoch 00023: val_acc did not improve from 0.88065\n",
            "Epoch 24/50\n",
            " - 10s - loss: 0.0628 - acc: 0.9736 - val_loss: 0.7339 - val_acc: 0.8802\n",
            "\n",
            "Epoch 00024: val_acc did not improve from 0.88065\n",
            "Epoch 25/50\n",
            " - 10s - loss: 0.0639 - acc: 0.9738 - val_loss: 0.7438 - val_acc: 0.8822\n",
            "\n",
            "Epoch 00025: val_acc improved from 0.88065 to 0.88219, saving model to /content/drive/My Drive/logs/weights-improvement-25-0.88.hdf5\n",
            "Epoch 26/50\n",
            " - 10s - loss: 0.0599 - acc: 0.9755 - val_loss: 0.7984 - val_acc: 0.8713\n",
            "\n",
            "Epoch 00026: val_acc did not improve from 0.88219\n",
            "Epoch 27/50\n",
            " - 10s - loss: 0.0618 - acc: 0.9746 - val_loss: 0.7766 - val_acc: 0.8706\n",
            "\n",
            "Epoch 00027: val_acc did not improve from 0.88219\n",
            "Epoch 28/50\n",
            " - 10s - loss: 0.0624 - acc: 0.9744 - val_loss: 0.7354 - val_acc: 0.8794\n",
            "\n",
            "Epoch 00028: val_acc did not improve from 0.88219\n",
            "Epoch 29/50\n",
            " - 10s - loss: 0.0589 - acc: 0.9761 - val_loss: 0.8135 - val_acc: 0.8817\n",
            "\n",
            "Epoch 00029: val_acc did not improve from 0.88219\n",
            "Epoch 30/50\n",
            " - 10s - loss: 0.0625 - acc: 0.9747 - val_loss: 0.7831 - val_acc: 0.8768\n",
            "\n",
            "Epoch 00030: val_acc did not improve from 0.88219\n",
            "Epoch 31/50\n",
            " - 10s - loss: 0.0601 - acc: 0.9750 - val_loss: 0.7447 - val_acc: 0.8741\n",
            "\n",
            "Epoch 00031: val_acc did not improve from 0.88219\n",
            "Epoch 32/50\n",
            " - 10s - loss: 0.0593 - acc: 0.9758 - val_loss: 0.8130 - val_acc: 0.8781\n",
            "\n",
            "Epoch 00032: val_acc did not improve from 0.88219\n",
            "Epoch 33/50\n",
            " - 10s - loss: 0.0563 - acc: 0.9769 - val_loss: 0.8273 - val_acc: 0.8730\n",
            "\n",
            "Epoch 00033: val_acc did not improve from 0.88219\n",
            "Epoch 34/50\n",
            " - 10s - loss: 0.0576 - acc: 0.9767 - val_loss: 0.7784 - val_acc: 0.8777\n",
            "\n",
            "Epoch 00034: val_acc did not improve from 0.88219\n",
            "Epoch 35/50\n",
            " - 10s - loss: 0.0577 - acc: 0.9760 - val_loss: 0.8374 - val_acc: 0.8741\n",
            "\n",
            "Epoch 00035: val_acc did not improve from 0.88219\n",
            "Epoch 36/50\n",
            " - 10s - loss: 0.0553 - acc: 0.9776 - val_loss: 0.8948 - val_acc: 0.8746\n",
            "\n",
            "Epoch 00036: val_acc did not improve from 0.88219\n",
            "Epoch 37/50\n",
            " - 9s - loss: 0.0554 - acc: 0.9769 - val_loss: 0.8117 - val_acc: 0.8819\n",
            "\n",
            "Epoch 00037: val_acc did not improve from 0.88219\n",
            "Epoch 38/50\n",
            " - 9s - loss: 0.0577 - acc: 0.9761 - val_loss: 0.7612 - val_acc: 0.8765\n",
            "\n",
            "Epoch 00038: val_acc did not improve from 0.88219\n",
            "Epoch 39/50\n",
            " - 10s - loss: 0.0559 - acc: 0.9773 - val_loss: 0.7813 - val_acc: 0.8778\n",
            "\n",
            "Epoch 00039: val_acc did not improve from 0.88219\n",
            "Epoch 40/50\n",
            " - 10s - loss: 0.0523 - acc: 0.9782 - val_loss: 0.8715 - val_acc: 0.8718\n",
            "\n",
            "Epoch 00040: val_acc did not improve from 0.88219\n",
            "Epoch 41/50\n",
            " - 10s - loss: 0.0568 - acc: 0.9768 - val_loss: 0.7735 - val_acc: 0.8729\n",
            "\n",
            "Epoch 00041: val_acc did not improve from 0.88219\n",
            "Epoch 42/50\n",
            " - 10s - loss: 0.0537 - acc: 0.9775 - val_loss: 0.8142 - val_acc: 0.8741\n",
            "\n",
            "Epoch 00042: val_acc did not improve from 0.88219\n",
            "Epoch 43/50\n",
            " - 10s - loss: 0.0546 - acc: 0.9771 - val_loss: 0.8547 - val_acc: 0.8688\n",
            "\n",
            "Epoch 00043: val_acc did not improve from 0.88219\n",
            "Epoch 44/50\n",
            " - 10s - loss: 0.0535 - acc: 0.9776 - val_loss: 0.9265 - val_acc: 0.8610\n",
            "\n",
            "Epoch 00044: val_acc did not improve from 0.88219\n",
            "Epoch 45/50\n",
            " - 10s - loss: 0.0538 - acc: 0.9771 - val_loss: 0.8898 - val_acc: 0.8729\n",
            "\n",
            "Epoch 00045: val_acc did not improve from 0.88219\n",
            "Epoch 46/50\n",
            " - 9s - loss: 0.0506 - acc: 0.9788 - val_loss: 0.9082 - val_acc: 0.8688\n",
            "\n",
            "Epoch 00046: val_acc did not improve from 0.88219\n",
            "Epoch 47/50\n",
            " - 9s - loss: 0.0537 - acc: 0.9773 - val_loss: 0.7961 - val_acc: 0.8828\n",
            "\n",
            "Epoch 00047: val_acc improved from 0.88219 to 0.88278, saving model to /content/drive/My Drive/logs/weights-improvement-47-0.88.hdf5\n",
            "Epoch 48/50\n",
            " - 10s - loss: 0.0503 - acc: 0.9791 - val_loss: 0.8601 - val_acc: 0.8800\n",
            "\n",
            "Epoch 00048: val_acc did not improve from 0.88278\n",
            "Epoch 49/50\n",
            " - 9s - loss: 0.0522 - acc: 0.9787 - val_loss: 0.7995 - val_acc: 0.8773\n",
            "\n",
            "Epoch 00049: val_acc did not improve from 0.88278\n",
            "Epoch 50/50\n",
            " - 9s - loss: 0.0537 - acc: 0.9775 - val_loss: 0.7982 - val_acc: 0.8850\n",
            "\n",
            "Epoch 00050: val_acc improved from 0.88278 to 0.88505, saving model to /content/drive/My Drive/logs/weights-improvement-50-0.89.hdf5\n"
          ],
          "name": "stdout"
        }
      ]
    },
    {
      "cell_type": "code",
      "metadata": {
        "id": "78O5FydqPYN9",
        "colab_type": "code",
        "outputId": "c358d3ab-efbb-48d2-865d-1602f063709a",
        "colab": {
          "base_uri": "https://localhost:8080/",
          "height": 284
        }
      },
      "source": [
        "plt.plot(history.history['acc'])\n",
        "plt.plot(history.history['val_acc'])"
      ],
      "execution_count": 0,
      "outputs": [
        {
          "output_type": "execute_result",
          "data": {
            "text/plain": [
              "[<matplotlib.lines.Line2D at 0x7fb2ae353b38>]"
            ]
          },
          "metadata": {
            "tags": []
          },
          "execution_count": 36
        },
        {
          "output_type": "display_data",
          "data": {
            "image/png": "[encoded data removed]",
            "text/plain": [
              "<Figure size 432x288 with 1 Axes>"
            ]
          },
          "metadata": {
            "tags": []
          }
        }
      ]
    },
    {
      "cell_type": "code",
      "metadata": {
        "id": "8jbNZG1aRrPH",
        "colab_type": "code",
        "outputId": "7a0ace82-e472-4abf-e82f-cc3fa3460ebd",
        "colab": {
          "base_uri": "https://localhost:8080/",
          "height": 768
        }
      },
      "source": [
        "model_path= '/content/drive/My Drive/logs/0.89_96_64_32_2/weights-improvement-289-0.89.hdf5'\n",
        "model = models.load_model(model_path)\n",
        "model.summary()"
      ],
      "execution_count": 0,
      "outputs": [
        {
          "output_type": "stream",
          "text": [
            "WARNING:tensorflow:From /usr/local/lib/python3.6/dist-packages/keras/backend/tensorflow_backend.py:541: The name tf.placeholder is deprecated. Please use tf.compat.v1.placeholder instead.\n",
            "\n",
            "WARNING:tensorflow:From /usr/local/lib/python3.6/dist-packages/keras/backend/tensorflow_backend.py:4432: The name tf.random_uniform is deprecated. Please use tf.random.uniform instead.\n",
            "\n",
            "WARNING:tensorflow:From /usr/local/lib/python3.6/dist-packages/keras/backend/tensorflow_backend.py:190: The name tf.get_default_session is deprecated. Please use tf.compat.v1.get_default_session instead.\n",
            "\n",
            "WARNING:tensorflow:From /usr/local/lib/python3.6/dist-packages/keras/backend/tensorflow_backend.py:197: The name tf.ConfigProto is deprecated. Please use tf.compat.v1.ConfigProto instead.\n",
            "\n",
            "WARNING:tensorflow:From /usr/local/lib/python3.6/dist-packages/keras/backend/tensorflow_backend.py:203: The name tf.Session is deprecated. Please use tf.compat.v1.Session instead.\n",
            "\n",
            "WARNING:tensorflow:From /usr/local/lib/python3.6/dist-packages/keras/backend/tensorflow_backend.py:207: The name tf.global_variables is deprecated. Please use tf.compat.v1.global_variables instead.\n",
            "\n",
            "WARNING:tensorflow:From /usr/local/lib/python3.6/dist-packages/keras/backend/tensorflow_backend.py:216: The name tf.is_variable_initialized is deprecated. Please use tf.compat.v1.is_variable_initialized instead.\n",
            "\n",
            "WARNING:tensorflow:From /usr/local/lib/python3.6/dist-packages/keras/backend/tensorflow_backend.py:223: The name tf.variables_initializer is deprecated. Please use tf.compat.v1.variables_initializer instead.\n",
            "\n",
            "WARNING:tensorflow:From /usr/local/lib/python3.6/dist-packages/keras/optimizers.py:793: The name tf.train.Optimizer is deprecated. Please use tf.compat.v1.train.Optimizer instead.\n",
            "\n",
            "WARNING:tensorflow:From /usr/local/lib/python3.6/dist-packages/keras/backend/tensorflow_backend.py:3576: The name tf.log is deprecated. Please use tf.math.log instead.\n",
            "\n",
            "WARNING:tensorflow:From /tensorflow-1.15.2/python3.6/tensorflow_core/python/ops/math_grad.py:1424: where (from tensorflow.python.ops.array_ops) is deprecated and will be removed in a future version.\n",
            "Instructions for updating:\n",
            "Use tf.where in 2.0, which has the same broadcast rule as np.where\n",
            "WARNING:tensorflow:From /usr/local/lib/python3.6/dist-packages/keras/backend/tensorflow_backend.py:1033: The name tf.assign_add is deprecated. Please use tf.compat.v1.assign_add instead.\n",
            "\n",
            "WARNING:tensorflow:From /usr/local/lib/python3.6/dist-packages/keras/backend/tensorflow_backend.py:1020: The name tf.assign is deprecated. Please use tf.compat.v1.assign instead.\n",
            "\n",
            "Model: \"sequential_2\"\n",
            "_________________________________________________________________\n",
            "Layer (type)                 Output Shape              Param #   \n",
            "=================================================================\n",
            "dense_5 (Dense)              (None, 96)                28896     \n",
            "_________________________________________________________________\n",
            "dense_6 (Dense)              (None, 64)                6208      \n",
            "_________________________________________________________________\n",
            "dense_7 (Dense)              (None, 32)                2080      \n",
            "_________________________________________________________________\n",
            "dense_8 (Dense)              (None, 2)                 66        \n",
            "=================================================================\n",
            "Total params: 37,250\n",
            "Trainable params: 37,250\n",
            "Non-trainable params: 0\n",
            "_________________________________________________________________\n"
          ],
          "name": "stdout"
        }
      ]
    },
    {
      "cell_type": "code",
      "metadata": {
        "id": "px95-xgqAVB5",
        "colab_type": "code",
        "outputId": "0273f2ce-f0c5-4470-d77c-1e7d5aecbbac",
        "colab": {
          "base_uri": "https://localhost:8080/",
          "height": 51
        }
      },
      "source": [
        "preds = model.predict(X_test)\n",
        "model.evaluate(X_test,y_test)"
      ],
      "execution_count": 0,
      "outputs": [
        {
          "output_type": "stream",
          "text": [
            "17040/17040 [==============================] - 1s 42us/step\n"
          ],
          "name": "stdout"
        },
        {
          "output_type": "execute_result",
          "data": {
            "text/plain": [
              "[0.9585166866178384, 0.8890845070422535]"
            ]
          },
          "metadata": {
            "tags": []
          },
          "execution_count": 57
        }
      ]
    },
    {
      "cell_type": "code",
      "metadata": {
        "id": "x5xMdCEHoORV",
        "colab_type": "code",
        "outputId": "68b8e9ae-73bb-4d67-ea18-11da44f4f97d",
        "colab": {
          "base_uri": "https://localhost:8080/",
          "height": 34
        }
      },
      "source": [
        "model.metrics_names"
      ],
      "execution_count": 0,
      "outputs": [
        {
          "output_type": "execute_result",
          "data": {
            "text/plain": [
              "['loss', 'acc']"
            ]
          },
          "metadata": {
            "tags": []
          },
          "execution_count": 5
        }
      ]
    },
    {
      "cell_type": "code",
      "metadata": {
        "id": "0Us2Y1nytfeH",
        "colab_type": "code",
        "outputId": "5a2e93c7-b552-4720-d955-91bb81a2abca",
        "colab": {
          "base_uri": "https://localhost:8080/",
          "height": 221
        }
      },
      "source": [
        "all_data['raw_body']"
      ],
      "execution_count": 0,
      "outputs": [
        {
          "output_type": "execute_result",
          "data": {
            "text/plain": [
              "0         I&#39;m not a Republican (voted more dem in my...\n",
              "1         Yahoo partnership puts Binance back in the Jap...\n",
              "2         CAUTIONARY STATEMENT REGARDING http://www.conf...\n",
              "3         / Yahoo! Inc. Bond files form 8-K - Other Even...\n",
              "4         these big buys and volume picking up!! There s...\n",
              "                                ...                        \n",
              "137991    NEW ARTICLE : JEDI Mind Tricks: Esper Says Clo...\n",
              "137992      Historic            after hours   The beginning\n",
              "137993                                   boys we on our way\n",
              "137994    There is no such thing!  who said &quot;too mu...\n",
              "137995    Whats going on with ? Is losing that Pentagon ...\n",
              "Name: raw_body, Length: 137996, dtype: object"
            ]
          },
          "metadata": {
            "tags": []
          },
          "execution_count": 51
        }
      ]
    },
    {
      "cell_type": "code",
      "metadata": {
        "id": "0n8Yq6q0odgK",
        "colab_type": "code",
        "outputId": "4aa314d9-9544-4a8f-a554-940ebda76e4b",
        "colab": {
          "base_uri": "https://localhost:8080/",
          "height": 34
        }
      },
      "source": [
        "# all_data['body'] = all_data['body'].apply(preprocess)\n",
        "# ul_docs = all_data['body'].apply(lambda x: nlp(x))\n",
        "# ul_X = ul_docs.apply(lambda x: x.vector)\n",
        "# ul_X = np.array(ul_X.tolist())\n",
        "# np.save('stocktwits_ul.npy', ul_X)\n",
        "ul_X = np.load('stocktwits_ul.npy')\n",
        "ul_X.shape"
      ],
      "execution_count": 0,
      "outputs": [
        {
          "output_type": "execute_result",
          "data": {
            "text/plain": [
              "(137996, 300)"
            ]
          },
          "metadata": {
            "tags": []
          },
          "execution_count": 70
        }
      ]
    },
    {
      "cell_type": "code",
      "metadata": {
        "id": "g4hGyGbn74aG",
        "colab_type": "code",
        "colab": {}
      },
      "source": [
        "ul_y = model.predict(ul_X)\n",
        "ul_labels = np.argmax(ul_y,axis=1)\n",
        "labels= pd.Series(ul_labels).replace({0:'Bearish',1:'Bullish'})"
      ],
      "execution_count": 0,
      "outputs": []
    },
    {
      "cell_type": "code",
      "metadata": {
        "id": "cN4fUtKl88J9",
        "colab_type": "code",
        "colab": {}
      },
      "source": [
        "all_data['bearish_score'] = ul_y[:,0]\n",
        "all_data['bullish_score'] = ul_y[:,1]\n",
        "all_data['sentiment_pred']= labels"
      ],
      "execution_count": 0,
      "outputs": []
    }
  ]
}