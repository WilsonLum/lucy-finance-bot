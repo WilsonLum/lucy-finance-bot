{
 "cells": [
  {
   "cell_type": "code",
   "execution_count": 2,
   "metadata": {
    "scrolled": true
   },
   "outputs": [],
   "source": [
    "import requests\n",
    "from bs4 import BeautifulSoup\n",
    "import time\n",
    "from tqdm import tqdm\n",
    "import json"
   ]
  },
  {
   "cell_type": "code",
   "execution_count": 3,
   "metadata": {},
   "outputs": [],
   "source": [
    "def api_url(stk):\n",
    "    base_url = 'https://api.stocktwits.com/api/2/streams/symbol/{stk}.json?filter=none'\n",
    "    # Create the final query with query and lang.\n",
    "    return base_url.format(stk=stk)\n",
    "\n",
    "def next_url(stk, lastpostid):\n",
    "    nxt_url = 'https://api.stocktwits.com/api/2/streams/symbol/{stk}.json?max={lastpostid}&filter=top'\n",
    "    return nxt_url.format(stk=stk, lastpostid = lastpostid )\n",
    "    \n",
    "my_user_agent = str('Mozilla/5.0 (Macintosh; Intel Mac OS X 10_14_4) '\n",
    "                    'AppleWebKit/537.36 (KHTML, like Gecko) '\n",
    "                    'Chrome/72.0.3626.121 Safari/537.36')\n",
    "headers = {'User-Agent': my_user_agent}\n",
    "\n",
    "def accessdata (url, stock):\n",
    "    filename = \"Stocktwits\\{name}.json\"\n",
    "    filename = filename.format(name=stock)\n",
    "    responses = requests.get(url, headers=headers).content\n",
    "    data = json.loads(responses)\n",
    "    try:\n",
    "        data = data['messages']\n",
    "        with open(filename, 'a+') as outfile:\n",
    "            json.dump(data, outfile)\n",
    "            lastpost = data[-1]['id']\n",
    "            inc = len(data)\n",
    "    except:\n",
    "        errorcode = data\n",
    "        print(url)\n",
    "        print(errorcode)\n",
    "        print(\"retrying after 60mins\")\n",
    "        time.sleep(3600)\n",
    "        data = data['messages']\n",
    "        with open(filename, 'a+') as outfile:\n",
    "            json.dump(data, outfile)\n",
    "            lastpost = data[-1]['id']\n",
    "            inc = len(data)\n",
    "            \n",
    "    return lastpost, inc"
   ]
  },
  {
   "cell_type": "code",
   "execution_count": null,
   "metadata": {},
   "outputs": [
    {
     "name": "stdout",
     "output_type": "stream",
     "text": [
      "Scraping for  GOOGL\n",
      "https://api.stocktwits.com/api/2/streams/symbol/GOOGL.json?filter=none\n",
      "{'response': {'status': 429}, 'errors': [{'message': 'Rate limit exceeded. Client may not make more than 200 requests an hour.'}]}\n",
      "retrying after 60mins\n"
     ]
    }
   ],
   "source": [
    "NoOfPosts = 10000\n",
    "stocks = ['GOOGL', 'YHOO', 'AMZN', 'INTC','FB','MSFT','TSLA','AAPL','BABA','AMD']\n",
    "\n",
    "for i in stocks:\n",
    "    print(\"Scraping for \",i)\n",
    "    first = True\n",
    "    count = 0\n",
    "    while True:\n",
    "        if count <= NoOfPosts:\n",
    "            if first == True:\n",
    "                lastpost, increment = accessdata(api_url(i),i)\n",
    "                first = False\n",
    "            lastpost, increment = accessdata(next_url(i,lastpost),i)\n",
    "            count+=increment\n",
    "        else:\n",
    "            break\n",
    "\n",
    "\n"
   ]
  }
 ],
 "metadata": {
  "kernelspec": {
   "display_name": "Python 3",
   "language": "python",
   "name": "python3"
  },
  "language_info": {
   "codemirror_mode": {
    "name": "ipython",
    "version": 3
   },
   "file_extension": ".py",
   "mimetype": "text/x-python",
   "name": "python",
   "nbconvert_exporter": "python",
   "pygments_lexer": "ipython3",
   "version": "3.7.6"
  }
 },
 "nbformat": 4,
 "nbformat_minor": 4
}
