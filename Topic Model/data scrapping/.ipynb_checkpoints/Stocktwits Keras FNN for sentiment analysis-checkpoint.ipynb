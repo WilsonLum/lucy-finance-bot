{
 "cells": [
  {
   "cell_type": "markdown",
   "metadata": {},
   "source": [
    "# Introduction\n",
    "\n",
    "In this tutorial, we do sentiment analysis using the deep learning classifier from Keras. We use the airline sentiment data from earlier workshops. We introduce the use of Keras \n",
    "\n",
    "We'll do the following:\n",
    "- Fit a deep learning model with Keras using dense feedforward network\n",
    "- Identify and deal with overfitting\n",
    "- Test the accuracy of a pretrained model"
   ]
  },
  {
   "cell_type": "markdown",
   "metadata": {},
   "source": [
    "## Set-up of the project\n",
    "We'll start by importing some packages. The Keras is a backend to the DL libraries - tensorflow, Theano or CNTK. Installation may be done using https://keras.io/#installation It recenty release the Keras 2.0, and we can use the latest version for this purpose."
   ]
  },
  {
   "cell_type": "code",
   "execution_count": 1,
   "metadata": {},
   "outputs": [],
   "source": [
    "import os \n",
    "os.environ[\"CUDA_VISIBLE_DEVICES\"]=\"0\";"
   ]
  },
  {
   "cell_type": "code",
   "execution_count": 2,
   "metadata": {},
   "outputs": [
    {
     "name": "stderr",
     "output_type": "stream",
     "text": [
      "Using TensorFlow backend.\n"
     ]
    },
    {
     "name": "stdout",
     "output_type": "stream",
     "text": [
      "2.2.4\n"
     ]
    }
   ],
   "source": [
    "# Basic packages\n",
    "# conda install nb_conda --> to install kernel with tensorflow virtualenv\n",
    "import pandas as pd \n",
    "import numpy as np\n",
    "import re\n",
    "import collections\n",
    "import matplotlib.pyplot as plt\n",
    "\n",
    "# Packages for data preparation\n",
    "from sklearn.model_selection import train_test_split\n",
    "from nltk.corpus import stopwords\n",
    "from keras.preprocessing.text import Tokenizer\n",
    "from keras.utils.np_utils import to_categorical\n",
    "from sklearn.preprocessing import LabelEncoder\n",
    "from sklearn import utils\n",
    "\n",
    "# Packages for modeling\n",
    "import keras\n",
    "from keras import models\n",
    "from keras import layers\n",
    "from keras import regularizers\n",
    "from keras.layers import Dropout\n",
    "from keras.layers.normalization import BatchNormalization\n",
    "from sklearn.metrics import classification_report, confusion_matrix\n",
    "print (keras.__version__)"
   ]
  },
  {
   "cell_type": "markdown",
   "metadata": {},
   "source": [
    "Then we set some parameters that will be used throughout the notebook. The batch size is the number of samples processed before the model is updated. The number of epochs is the number of complete passes (iteration) through the training dataset."
   ]
  },
  {
   "cell_type": "markdown",
   "metadata": {},
   "source": [
    "## Setting global variables"
   ]
  },
  {
   "cell_type": "code",
   "execution_count": 3,
   "metadata": {},
   "outputs": [],
   "source": [
    "NB_WORDS = 35000  # Parameter indicating the number of words we'll put in the dictionary to create word vector\n",
    "VAL_SIZE = 1000  # Size of the validation set\n",
    "NB_START_EPOCHS = 12  # Number of epochs we usually start to train with\n",
    "BATCH_SIZE = 512  # Size of the batches used in the mini-batch gradient descent\n",
    "target_names = ['Bullish', 'Bearish']"
   ]
  },
  {
   "cell_type": "markdown",
   "metadata": {},
   "source": [
    "## Reading in the data and doing some pre-processing. "
   ]
  },
  {
   "cell_type": "code",
   "execution_count": 4,
   "metadata": {},
   "outputs": [],
   "source": [
    "xls1 = pd.ExcelFile('data/stocktwits_sentiment_subjectivity_Feb-01-2020.lsx')\n",
    "xls2 = pd.ExcelFile('data/twiters_label_data_Feb-02-2020.xlsx')\n",
    "df_1 = pd.read_excel(xls1, 'stocks_label')\n",
    "df_2 = pd.read_excel(xls2, 'stocks_label')\n",
    "df_1 = df_1[['text', 'sentiment']]\n"
   ]
  },
  {
   "cell_type": "markdown",
   "metadata": {},
   "source": [
    "Split the data to training and test set before upsampling"
   ]
  },
  {
   "cell_type": "code",
   "execution_count": 5,
   "metadata": {},
   "outputs": [
    {
     "name": "stdout",
     "output_type": "stream",
     "text": [
      "# Train data samples: 41659\n",
      "# Test data samples: 4629\n"
     ]
    }
   ],
   "source": [
    "X_train, X_test, y_train, y_test = train_test_split(df_1.text, df_1.sentiment, test_size=0.1, random_state=37,shuffle=True,stratify = df_1.sentiment)\n",
    "print('# Train data samples:', X_train.shape[0])\n",
    "print('# Test data samples:', X_test.shape[0])\n",
    "assert X_train.shape[0] == y_train.shape[0]\n",
    "assert X_test.shape[0] == y_test.shape[0]"
   ]
  },
  {
   "cell_type": "code",
   "execution_count": 6,
   "metadata": {},
   "outputs": [
    {
     "data": {
      "text/plain": [
       "41659"
      ]
     },
     "execution_count": 6,
     "metadata": {},
     "output_type": "execute_result"
    }
   ],
   "source": [
    "len(X_train)"
   ]
  },
  {
   "cell_type": "code",
   "execution_count": 7,
   "metadata": {},
   "outputs": [],
   "source": [
    "stocks_1 = pd.concat([X_train,y_train],axis=1)"
   ]
  },
  {
   "cell_type": "code",
   "execution_count": 8,
   "metadata": {
    "scrolled": true
   },
   "outputs": [
    {
     "data": {
      "text/plain": [
       "41659"
      ]
     },
     "execution_count": 8,
     "metadata": {},
     "output_type": "execute_result"
    }
   ],
   "source": [
    "len(stocks_1)"
   ]
  },
  {
   "cell_type": "code",
   "execution_count": 9,
   "metadata": {},
   "outputs": [
    {
     "name": "stdout",
     "output_type": "stream",
     "text": [
      "# Train data samples: 1176\n",
      "# Test data samples: 131\n"
     ]
    }
   ],
   "source": [
    "X_train, X_test, y_train, y_test = train_test_split(df_2.text, df_2.sentiment, test_size=0.1, random_state=37,shuffle=True,stratify = df_2.sentiment)\n",
    "print('# Train data samples:', X_train.shape[0])\n",
    "print('# Test data samples:', X_test.shape[0])\n",
    "assert X_train.shape[0] == y_train.shape[0]\n",
    "assert X_test.shape[0] == y_test.shape[0]"
   ]
  },
  {
   "cell_type": "code",
   "execution_count": 10,
   "metadata": {},
   "outputs": [
    {
     "data": {
      "text/plain": [
       "1176"
      ]
     },
     "execution_count": 10,
     "metadata": {},
     "output_type": "execute_result"
    }
   ],
   "source": [
    "len(X_train)"
   ]
  },
  {
   "cell_type": "code",
   "execution_count": 11,
   "metadata": {},
   "outputs": [],
   "source": [
    "stocks_2 = pd.concat([X_train,y_train],axis=1)"
   ]
  },
  {
   "cell_type": "code",
   "execution_count": 12,
   "metadata": {},
   "outputs": [
    {
     "data": {
      "text/plain": [
       "1176"
      ]
     },
     "execution_count": 12,
     "metadata": {},
     "output_type": "execute_result"
    }
   ],
   "source": [
    "len(stocks_2)"
   ]
  },
  {
   "cell_type": "code",
   "execution_count": 13,
   "metadata": {},
   "outputs": [],
   "source": [
    "df = pd.concat([stocks_1,stocks_2])"
   ]
  },
  {
   "cell_type": "code",
   "execution_count": 14,
   "metadata": {},
   "outputs": [
    {
     "data": {
      "text/plain": [
       "42835"
      ]
     },
     "execution_count": 14,
     "metadata": {},
     "output_type": "execute_result"
    }
   ],
   "source": [
    "len(df)"
   ]
  },
  {
   "cell_type": "markdown",
   "metadata": {},
   "source": [
    "UpSampling the datasets"
   ]
  },
  {
   "cell_type": "code",
   "execution_count": 15,
   "metadata": {},
   "outputs": [],
   "source": [
    "stocks_bullish = df[df.sentiment == 'Bullish'] \n",
    "stocks_bearish = df[df.sentiment == 'Bearish']"
   ]
  },
  {
   "cell_type": "code",
   "execution_count": 16,
   "metadata": {},
   "outputs": [],
   "source": [
    "bearish_upsampled = utils.resample(stocks_bearish, \n",
    "                                 replace=True,                         # sample with replacement\n",
    "                                 n_samples=stocks_bullish.shape[0],    # to match majority class\n",
    "                                 random_state=42)"
   ]
  },
  {
   "cell_type": "code",
   "execution_count": 17,
   "metadata": {},
   "outputs": [
    {
     "data": {
      "text/plain": [
       "(32846, 2)"
      ]
     },
     "execution_count": 17,
     "metadata": {},
     "output_type": "execute_result"
    }
   ],
   "source": [
    "bearish_upsampled.shape"
   ]
  },
  {
   "cell_type": "code",
   "execution_count": 18,
   "metadata": {},
   "outputs": [],
   "source": [
    "stocks = pd.concat([stocks_bullish,bearish_upsampled])"
   ]
  },
  {
   "cell_type": "code",
   "execution_count": 19,
   "metadata": {},
   "outputs": [
    {
     "data": {
      "text/plain": [
       "Bearish    32846\n",
       "Bullish    32846\n",
       "Name: sentiment, dtype: int64"
      ]
     },
     "execution_count": 19,
     "metadata": {},
     "output_type": "execute_result"
    }
   ],
   "source": [
    "stocks['sentiment'].value_counts()"
   ]
  },
  {
   "cell_type": "code",
   "execution_count": 20,
   "metadata": {},
   "outputs": [],
   "source": [
    "stocks = stocks.sample(frac=1).reset_index(drop=True)\n",
    "df     = stocks.reindex(np.random.permutation(stocks.index)) "
   ]
  },
  {
   "cell_type": "code",
   "execution_count": 21,
   "metadata": {},
   "outputs": [
    {
     "data": {
      "text/html": [
       "<div>\n",
       "<style scoped>\n",
       "    .dataframe tbody tr th:only-of-type {\n",
       "        vertical-align: middle;\n",
       "    }\n",
       "\n",
       "    .dataframe tbody tr th {\n",
       "        vertical-align: top;\n",
       "    }\n",
       "\n",
       "    .dataframe thead th {\n",
       "        text-align: right;\n",
       "    }\n",
       "</style>\n",
       "<table border=\"1\" class=\"dataframe\">\n",
       "  <thead>\n",
       "    <tr style=\"text-align: right;\">\n",
       "      <th></th>\n",
       "      <th>text</th>\n",
       "      <th>sentiment</th>\n",
       "    </tr>\n",
       "  </thead>\n",
       "  <tbody>\n",
       "    <tr>\n",
       "      <th>40673</th>\n",
       "      <td>dow</td>\n",
       "      <td>Bearish</td>\n",
       "    </tr>\n",
       "    <tr>\n",
       "      <th>44579</th>\n",
       "      <td>let close 560</td>\n",
       "      <td>Bearish</td>\n",
       "    </tr>\n",
       "    <tr>\n",
       "      <th>2632</th>\n",
       "      <td>cheap value play growth</td>\n",
       "      <td>Bullish</td>\n",
       "    </tr>\n",
       "    <tr>\n",
       "      <th>55840</th>\n",
       "      <td>ole sayin</td>\n",
       "      <td>Bearish</td>\n",
       "    </tr>\n",
       "    <tr>\n",
       "      <th>50960</th>\n",
       "      <td>know already know earnings announcement tsla j...</td>\n",
       "      <td>Bullish</td>\n",
       "    </tr>\n",
       "  </tbody>\n",
       "</table>\n",
       "</div>"
      ],
      "text/plain": [
       "                                                    text sentiment\n",
       "40673                                                dow   Bearish\n",
       "44579                                      let close 560   Bearish\n",
       "2632                             cheap value play growth   Bullish\n",
       "55840                                          ole sayin   Bearish\n",
       "50960  know already know earnings announcement tsla j...   Bullish"
      ]
     },
     "execution_count": 21,
     "metadata": {},
     "output_type": "execute_result"
    }
   ],
   "source": [
    "df.head()"
   ]
  },
  {
   "cell_type": "code",
   "execution_count": 22,
   "metadata": {},
   "outputs": [
    {
     "data": {
      "text/plain": [
       "Bearish    32846\n",
       "Bullish    32846\n",
       "Name: sentiment, dtype: int64"
      ]
     },
     "execution_count": 22,
     "metadata": {},
     "output_type": "execute_result"
    }
   ],
   "source": [
    "df.sentiment.value_counts()"
   ]
  },
  {
   "cell_type": "code",
   "execution_count": 23,
   "metadata": {},
   "outputs": [],
   "source": [
    "def remove_stopwords(input_text):\n",
    "        stopwords_list = stopwords.words('english')\n",
    "        # Some words which might indicate a certain sentiment are kept via a whitelist\n",
    "        # whitelist = [\"n't\", \"not\", \"no\"]\n",
    "        whitelist = []\n",
    "        words = input_text.split() \n",
    "        clean_words = [word for word in words if (word not in stopwords_list or word in whitelist) and len(word) > 1] \n",
    "        return \" \".join(clean_words) \n",
    "    \n",
    "def remove_mentions(input_text):\n",
    "        return re.sub(r'@\\w+', '', input_text)"
   ]
  },
  {
   "cell_type": "code",
   "execution_count": 24,
   "metadata": {},
   "outputs": [
    {
     "data": {
      "text/html": [
       "<div>\n",
       "<style scoped>\n",
       "    .dataframe tbody tr th:only-of-type {\n",
       "        vertical-align: middle;\n",
       "    }\n",
       "\n",
       "    .dataframe tbody tr th {\n",
       "        vertical-align: top;\n",
       "    }\n",
       "\n",
       "    .dataframe thead th {\n",
       "        text-align: right;\n",
       "    }\n",
       "</style>\n",
       "<table border=\"1\" class=\"dataframe\">\n",
       "  <thead>\n",
       "    <tr style=\"text-align: right;\">\n",
       "      <th></th>\n",
       "      <th>text</th>\n",
       "      <th>sentiment</th>\n",
       "    </tr>\n",
       "  </thead>\n",
       "  <tbody>\n",
       "    <tr>\n",
       "      <th>40673</th>\n",
       "      <td>dow</td>\n",
       "      <td>Bearish</td>\n",
       "    </tr>\n",
       "    <tr>\n",
       "      <th>44579</th>\n",
       "      <td>let close 560</td>\n",
       "      <td>Bearish</td>\n",
       "    </tr>\n",
       "    <tr>\n",
       "      <th>2632</th>\n",
       "      <td>cheap value play growth</td>\n",
       "      <td>Bullish</td>\n",
       "    </tr>\n",
       "    <tr>\n",
       "      <th>55840</th>\n",
       "      <td>ole sayin</td>\n",
       "      <td>Bearish</td>\n",
       "    </tr>\n",
       "    <tr>\n",
       "      <th>50960</th>\n",
       "      <td>know already know earnings announcement tsla j...</td>\n",
       "      <td>Bullish</td>\n",
       "    </tr>\n",
       "  </tbody>\n",
       "</table>\n",
       "</div>"
      ],
      "text/plain": [
       "                                                    text sentiment\n",
       "40673                                                dow   Bearish\n",
       "44579                                      let close 560   Bearish\n",
       "2632                             cheap value play growth   Bullish\n",
       "55840                                          ole sayin   Bearish\n",
       "50960  know already know earnings announcement tsla j...   Bullish"
      ]
     },
     "execution_count": 24,
     "metadata": {},
     "output_type": "execute_result"
    }
   ],
   "source": [
    "df.text = df.text.apply(remove_stopwords).apply(remove_mentions)\n",
    "df.head()"
   ]
  },
  {
   "cell_type": "markdown",
   "metadata": {},
   "source": [
    "Segment the data into test and train data sets. "
   ]
  },
  {
   "cell_type": "code",
   "execution_count": 25,
   "metadata": {},
   "outputs": [
    {
     "name": "stdout",
     "output_type": "stream",
     "text": [
      "# Train data samples: 59122\n",
      "# Test data samples: 6570\n"
     ]
    }
   ],
   "source": [
    "X_train, X_test, y_train, y_test = train_test_split(df.text, df.sentiment, test_size=0.1, random_state=37,shuffle=True,stratify = df.sentiment)\n",
    "print('# Train data samples:', X_train.shape[0])\n",
    "print('# Test data samples:', X_test.shape[0])\n",
    "assert X_train.shape[0] == y_train.shape[0]\n",
    "assert X_test.shape[0] == y_test.shape[0]"
   ]
  },
  {
   "cell_type": "code",
   "execution_count": 26,
   "metadata": {},
   "outputs": [],
   "source": [
    "tk = Tokenizer(num_words=NB_WORDS,\n",
    "               filters='!\"#$%&()*+,-./:;<=>?@[\\\\]^_`{|}~\\t\\n',\n",
    "               lower=True,\n",
    "               split=\" \")\n",
    "tk.fit_on_texts(X_train)"
   ]
  },
  {
   "cell_type": "code",
   "execution_count": 27,
   "metadata": {},
   "outputs": [
    {
     "name": "stdout",
     "output_type": "stream",
     "text": [
      "Fitted tokenizer on 59122 documents\n",
      "35000 words in dictionary\n",
      "Top 5 most common words are: [('market', 3697), ('like', 3494), ('going', 3422), ('today', 3415), ('get', 3082)]\n"
     ]
    }
   ],
   "source": [
    "print('Fitted tokenizer on {} documents'.format(tk.document_count))\n",
    "print('{} words in dictionary'.format(tk.num_words))\n",
    "print('Top 5 most common words are:', collections.Counter(tk.word_counts).most_common(5))"
   ]
  },
  {
   "cell_type": "code",
   "execution_count": 28,
   "metadata": {},
   "outputs": [
    {
     "name": "stdout",
     "output_type": "stream",
     "text": [
      "\"top sell money flow 2017\" is converted into [4, 468]\n"
     ]
    }
   ],
   "source": [
    "# THis list numbers represent the column number that contains a 1 for the word vector\n",
    "# the columns are the features. Is a better way to represent the word vector rather than using 30000 features where most are 0\n",
    "X_train_seq = tk.texts_to_sequences(X_train)\n",
    "X_test_seq = tk.texts_to_sequences(X_test)\n",
    "print('\"{}\" is converted into {}'.format(X_train[0], X_train_seq[0]))"
   ]
  },
  {
   "cell_type": "markdown",
   "metadata": {},
   "source": [
    "One hot encoding is very explained [in this link.](https://hackernoon.com/what-is-one-hot-encoding-why-and-when-do-you-have-to-use-it-e3c6186d008f#targetText=One%20hot%20encoding%20is%20a,the%20entry%20in%20the%20dataset)\n",
    "Essentially, it is a binary indicator of whether a feature (word etc) exists in the training documents or not. It is used in this instance as instead of showing the positional index of a particular word, it indicates 1/0 if the word is present in the document.\n",
    "    "
   ]
  },
  {
   "cell_type": "code",
   "execution_count": 29,
   "metadata": {},
   "outputs": [],
   "source": [
    "def one_hot_seq(seqs, nb_features = NB_WORDS):\n",
    "    ohs = np.zeros((len(seqs), nb_features))\n",
    "    for i, s in enumerate(seqs):\n",
    "        ohs[i, s] = 1.\n",
    "    return ohs"
   ]
  },
  {
   "cell_type": "code",
   "execution_count": 30,
   "metadata": {},
   "outputs": [
    {
     "name": "stdout",
     "output_type": "stream",
     "text": [
      "\"[4, 468]\" is converted into [0. 0. 0. ... 0. 0. 0.]\n",
      "For this example we have 2.0 features with a value of 1.\n"
     ]
    }
   ],
   "source": [
    "X_train_oh = one_hot_seq(X_train_seq)\n",
    "X_test_oh = one_hot_seq(X_test_seq)\n",
    "\n",
    "print('\"{}\" is converted into {}'.format(X_train_seq[0], X_train_oh[0]))\n",
    "print('For this example we have {} features with a value of 1.'.format(X_train_oh[0].sum()))"
   ]
  },
  {
   "cell_type": "code",
   "execution_count": 31,
   "metadata": {},
   "outputs": [
    {
     "name": "stdout",
     "output_type": "stream",
     "text": [
      "\"Bearish\" is converted into 0\n",
      "\"0\" is converted into [1. 0.]\n"
     ]
    }
   ],
   "source": [
    "le = LabelEncoder()\n",
    "y_train_le = le.fit_transform(y_train)\n",
    "y_test_le = le.transform(y_test)\n",
    "y_train_oh = to_categorical(y_train_le)\n",
    "y_test_oh = to_categorical(y_test_le)\n",
    "print('\"{}\" is converted into {}'.format(y_train[0], y_train_le[0]))\n",
    "print('\"{}\" is converted into {}'.format(y_train_le[0], y_train_oh[0]))"
   ]
  },
  {
   "cell_type": "code",
   "execution_count": 32,
   "metadata": {},
   "outputs": [
    {
     "name": "stdout",
     "output_type": "stream",
     "text": [
      "Shape of validation set: (5913, 35000)\n"
     ]
    }
   ],
   "source": [
    "X_train_rest, X_valid, y_train_rest, y_valid = train_test_split(X_train_oh, y_train_oh, test_size=0.1, random_state=37,shuffle=True,stratify = y_train_oh)\n",
    "\n",
    "assert X_valid.shape[0] == y_valid.shape[0]\n",
    "assert X_train_rest.shape[0] == y_train_rest.shape[0]\n",
    "\n",
    "print('Shape of validation set:',X_valid.shape)"
   ]
  },
  {
   "cell_type": "markdown",
   "metadata": {},
   "source": [
    "### Set-up of Dense Feedforward Classifier\n",
    "The model used is a sequential model with 2 intermediate hidden layers. In the input layer, there are 64 neurons (what is described as a perceptron). As there are 10000 words, total no of parameters in the first layer = 64*10000 + 64 (for constants) = 640064.\n",
    "\n",
    "In the 2nd layer, this takes the output from the 1st layer (64 outputs from the 64 neurons) Total no of parameters = 64-64 + 64 = 4160.\n",
    "\n",
    "There are 3 outputs (shape) from the last output layer which correspond to probabilities of the 3 classes - positive, negative and neutral. Total no of parameters = 64* 3 +3 = 195\n",
    "\n",
    "The Dense FNN is the simplest model that should be understood first in DL."
   ]
  },
  {
   "cell_type": "code",
   "execution_count": 33,
   "metadata": {
    "scrolled": false
   },
   "outputs": [
    {
     "name": "stdout",
     "output_type": "stream",
     "text": [
      "WARNING:tensorflow:From C:\\ProgramData\\Anaconda3\\envs\\nlp\\lib\\site-packages\\tensorflow\\python\\framework\\op_def_library.py:263: colocate_with (from tensorflow.python.framework.ops) is deprecated and will be removed in a future version.\n",
      "Instructions for updating:\n",
      "Colocations handled automatically by placer.\n",
      "WARNING:tensorflow:From C:\\Users\\Wilson\\AppData\\Roaming\\Python\\Python37\\site-packages\\keras\\backend\\tensorflow_backend.py:3445: calling dropout (from tensorflow.python.ops.nn_ops) with keep_prob is deprecated and will be removed in a future version.\n",
      "Instructions for updating:\n",
      "Please use `rate` instead of `keep_prob`. Rate should be set to `rate = 1 - keep_prob`.\n",
      "_________________________________________________________________\n",
      "Layer (type)                 Output Shape              Param #   \n",
      "=================================================================\n",
      "dense_1 (Dense)              (None, 64)                2240064   \n",
      "_________________________________________________________________\n",
      "dense_2 (Dense)              (None, 32)                2080      \n",
      "_________________________________________________________________\n",
      "dropout_1 (Dropout)          (None, 32)                0         \n",
      "_________________________________________________________________\n",
      "dense_3 (Dense)              (None, 256)               8448      \n",
      "_________________________________________________________________\n",
      "dropout_2 (Dropout)          (None, 256)               0         \n",
      "_________________________________________________________________\n",
      "dense_4 (Dense)              (None, 2)                 514       \n",
      "=================================================================\n",
      "Total params: 2,251,106\n",
      "Trainable params: 2,251,106\n",
      "Non-trainable params: 0\n",
      "_________________________________________________________________\n"
     ]
    }
   ],
   "source": [
    "base_model = models.Sequential()\n",
    "base_model.add(layers.Dense(64, activation='relu', input_shape=(NB_WORDS,)))\n",
    "base_model.add(layers.Dense(32, kernel_regularizer=regularizers.l2(0.001), activation='relu'))\n",
    "base_model.add(Dropout(0.5))\n",
    "base_model.add(layers.Dense(256, kernel_regularizer=regularizers.l2(0.001), activation='relu'))\n",
    "base_model.add(Dropout(0.5))\n",
    "base_model.add(layers.Dense(2, activation='softmax'))\n",
    "base_model.summary()"
   ]
  },
  {
   "cell_type": "markdown",
   "metadata": {},
   "source": [
    "Next, the model is compiled. The loss function is meant for categorical classifications. \n",
    "$-(y log(p) + (1-y) log(1-p))$ So suppose for a positive label, and the classifier classes the positive/ negative classes as (0.8,0.2), $p=0.8, y=1$ for the cross entropy calculated as $0.223$. If it classifies as 100% positive, the cross entropy is 0."
   ]
  },
  {
   "cell_type": "code",
   "execution_count": 34,
   "metadata": {
    "scrolled": false
   },
   "outputs": [
    {
     "name": "stdout",
     "output_type": "stream",
     "text": [
      "WARNING:tensorflow:From C:\\ProgramData\\Anaconda3\\envs\\nlp\\lib\\site-packages\\tensorflow\\python\\ops\\math_ops.py:3066: to_int32 (from tensorflow.python.ops.math_ops) is deprecated and will be removed in a future version.\n",
      "Instructions for updating:\n",
      "Use tf.cast instead.\n",
      "Train on 53209 samples, validate on 5913 samples\n",
      "Epoch 1/12\n",
      "53209/53209 [==============================] - 67s 1ms/step - loss: 0.6241 - acc: 0.7131 - val_loss: 0.4626 - val_acc: 0.8114\n",
      "Epoch 2/12\n",
      "53209/53209 [==============================] - 55s 1ms/step - loss: 0.3549 - acc: 0.8723 - val_loss: 0.3504 - val_acc: 0.8694\n",
      "Epoch 3/12\n",
      "53209/53209 [==============================] - 47s 882us/step - loss: 0.2080 - acc: 0.9359 - val_loss: 0.3140 - val_acc: 0.8941\n",
      "Epoch 4/12\n",
      "53209/53209 [==============================] - 44s 824us/step - loss: 0.1255 - acc: 0.9695 - val_loss: 0.3332 - val_acc: 0.9085\n",
      "Epoch 5/12\n",
      "53209/53209 [==============================] - 36s 669us/step - loss: 0.0820 - acc: 0.9846 - val_loss: 0.3389 - val_acc: 0.9144\n",
      "Epoch 6/12\n",
      "53209/53209 [==============================] - 41s 777us/step - loss: 0.0648 - acc: 0.9900 - val_loss: 0.3488 - val_acc: 0.9187\n",
      "Epoch 7/12\n",
      "53209/53209 [==============================] - 39s 742us/step - loss: 0.0516 - acc: 0.9938 - val_loss: 0.3830 - val_acc: 0.9148\n",
      "Epoch 8/12\n",
      "53209/53209 [==============================] - 42s 788us/step - loss: 0.0451 - acc: 0.9951 - val_loss: 0.3762 - val_acc: 0.9181\n",
      "Epoch 9/12\n",
      "53209/53209 [==============================] - 42s 783us/step - loss: 0.0402 - acc: 0.9958 - val_loss: 0.3748 - val_acc: 0.9203\n",
      "Epoch 10/12\n",
      "53209/53209 [==============================] - 44s 819us/step - loss: 0.0363 - acc: 0.9963 - val_loss: 0.3963 - val_acc: 0.9170\n",
      "Epoch 11/12\n",
      "53209/53209 [==============================] - 46s 873us/step - loss: 0.0333 - acc: 0.9969 - val_loss: 0.3679 - val_acc: 0.9258\n",
      "Epoch 12/12\n",
      "53209/53209 [==============================] - 34s 645us/step - loss: 0.0306 - acc: 0.9973 - val_loss: 0.3979 - val_acc: 0.9193\n"
     ]
    }
   ],
   "source": [
    "def deep_model(model):\n",
    "    model.compile(optimizer='adam'\n",
    "                  , loss='categorical_crossentropy'\n",
    "                  , metrics=['accuracy'])\n",
    "    \n",
    "    history = model.fit(X_train_rest\n",
    "                       , y_train_rest\n",
    "                       , epochs= NB_START_EPOCHS\n",
    "                       , batch_size= BATCH_SIZE\n",
    "                       , validation_data=(X_valid, y_valid)\n",
    "                       , verbose=1)\n",
    "    \n",
    "    return history\n",
    "base_history = deep_model(base_model)"
   ]
  },
  {
   "cell_type": "markdown",
   "metadata": {},
   "source": [
    "Note the below, where with the no of epochs (iterations), the train loss decreases. However, the validation losses increases. This is a symptom of over-fitting. Too often, this occurs for deep learning. The same thing occurs for the accuracy, which increases for the training set but remain stagnant for the validation set."
   ]
  },
  {
   "cell_type": "code",
   "execution_count": 35,
   "metadata": {},
   "outputs": [
    {
     "data": {
      "image/png": "[encoded data removed]",
      "text/plain": [
       "<Figure size 432x288 with 1 Axes>"
      ]
     },
     "metadata": {
      "needs_background": "light"
     },
     "output_type": "display_data"
    },
    {
     "data": {
      "image/png": "[encoded data removed]",
      "text/plain": [
       "<Figure size 432x288 with 1 Axes>"
      ]
     },
     "metadata": {
      "needs_background": "light"
     },
     "output_type": "display_data"
    }
   ],
   "source": [
    "def eval_metric(history, metric_name):\n",
    "    metric = history.history[metric_name]\n",
    "    val_metric = history.history['val_' + metric_name]\n",
    "\n",
    "    e = range(1, NB_START_EPOCHS + 1)\n",
    "\n",
    "    plt.plot(e, metric, 'bo', label='Train ' + metric_name)\n",
    "    plt.plot(e, val_metric, 'b', label='Validation ' + metric_name)\n",
    "    plt.legend()\n",
    "    plt.show()\n",
    "    \n",
    "eval_metric(base_history, 'loss')\n",
    "eval_metric(base_history, 'acc')"
   ]
  },
  {
   "cell_type": "markdown",
   "metadata": {},
   "source": [
    "In the next example, what we do is to remove one hidden layer and also decrease the no of neurons from 64 to 32. This will hopefully reduce over-fitting"
   ]
  },
  {
   "cell_type": "markdown",
   "metadata": {},
   "source": [
    "### Less over-fitting with reduced model\n",
    "Indeed as we observe, the baseline model sees increasing losses while the reduced model (with fewer neurons and one hidden layer less) loss does not increase even with increasing epochs."
   ]
  },
  {
   "cell_type": "code",
   "execution_count": 36,
   "metadata": {},
   "outputs": [],
   "source": [
    "def compare_loss_with_baseline(h, model_name):\n",
    "    loss_base_model = base_history.history['val_loss']\n",
    "    loss_model = h.history['val_loss']\n",
    "\n",
    "    e = range(1, NB_START_EPOCHS + 1)\n",
    "\n",
    "    plt.plot(e, loss_base_model, 'bo', label='Validation Loss Baseline Model')\n",
    "    plt.plot(e, loss_model, 'b', label='Validation Loss ' + model_name)\n",
    "    plt.legend()\n",
    "    plt.show()\n",
    "    "
   ]
  },
  {
   "cell_type": "markdown",
   "metadata": {},
   "source": [
    "### Testing model results\n",
    "We use out models for in-sample testing of the data. In fact the 3 models (regularised, drop-out and reduced models) all work well in spite of controlling for over-fitting as seen by a higher accuracy."
   ]
  },
  {
   "cell_type": "code",
   "execution_count": 37,
   "metadata": {
    "scrolled": true
   },
   "outputs": [
    {
     "name": "stdout",
     "output_type": "stream",
     "text": [
      "Epoch 1/12\n",
      "59122/59122 [==============================] - 64s 1ms/step - loss: 0.0658 - acc: 0.9886\n",
      "Epoch 2/12\n",
      "59122/59122 [==============================] - 38s 643us/step - loss: 0.0371 - acc: 0.9949\n",
      "Epoch 3/12\n",
      "59122/59122 [==============================] - 42s 712us/step - loss: 0.0295 - acc: 0.9970\n",
      "Epoch 4/12\n",
      "59122/59122 [==============================] - 39s 667us/step - loss: 0.0262 - acc: 0.9976\n",
      "Epoch 5/12\n",
      "59122/59122 [==============================] - 40s 676us/step - loss: 0.0249 - acc: 0.9978\n",
      "Epoch 6/12\n",
      "59122/59122 [==============================] - 38s 648us/step - loss: 0.0237 - acc: 0.9979\n",
      "Epoch 7/12\n",
      "59122/59122 [==============================] - 42s 714us/step - loss: 0.0219 - acc: 0.9983\n",
      "Epoch 8/12\n",
      "59122/59122 [==============================] - 38s 642us/step - loss: 0.0213 - acc: 0.9982\n",
      "Epoch 9/12\n",
      "59122/59122 [==============================] - 39s 658us/step - loss: 0.0208 - acc: 0.9982\n",
      "Epoch 10/12\n",
      "59122/59122 [==============================] - 35s 597us/step - loss: 0.0192 - acc: 0.9986\n",
      "Epoch 11/12\n",
      "59122/59122 [==============================] - 37s 622us/step - loss: 0.0187 - acc: 0.9986\n",
      "Epoch 12/12\n",
      "59122/59122 [==============================] - 37s 627us/step - loss: 0.0182 - acc: 0.9984\n",
      "6570/6570 [==============================] - 6s 943us/step\n",
      "/n\n",
      "Test accuracy of baseline model: 92.21%\n"
     ]
    }
   ],
   "source": [
    "def test_model(model, epoch_stop):\n",
    "    model.fit(X_train_oh\n",
    "              , y_train_oh\n",
    "              , epochs=epoch_stop\n",
    "              , batch_size=BATCH_SIZE\n",
    "              , verbose=1)\n",
    "    #predictions = model.predict(X_test_oh)\n",
    "    results = model.evaluate(X_test_oh, y_test_oh)\n",
    "    \n",
    "    #print('Confusion Matrix')\n",
    "    #print(confusion_matrix(y_test_oh, predictions))\n",
    "    #print('Classification Report')\n",
    "    #print(classification_report(y_test_oh, predictions, target_names=target_names))\n",
    "    return results,\n",
    "\n",
    "base_results = test_model(base_model, 12)\n",
    "print('/n')\n",
    "print('Test accuracy of baseline model: {0:.2f}%'.format(base_results[0][1]*100))"
   ]
  },
  {
   "cell_type": "markdown",
   "metadata": {},
   "source": [
    " ### Increase depth with dropout, regulariser and Batch normalisation"
   ]
  },
  {
   "cell_type": "code",
   "execution_count": 38,
   "metadata": {
    "scrolled": true
   },
   "outputs": [
    {
     "name": "stdout",
     "output_type": "stream",
     "text": [
      "_________________________________________________________________\n",
      "Layer (type)                 Output Shape              Param #   \n",
      "=================================================================\n",
      "dense_5 (Dense)              (None, 512)               17920512  \n",
      "_________________________________________________________________\n",
      "dropout_3 (Dropout)          (None, 512)               0         \n",
      "_________________________________________________________________\n",
      "batch_normalization_1 (Batch (None, 512)               2048      \n",
      "_________________________________________________________________\n",
      "dense_6 (Dense)              (None, 256)               131328    \n",
      "_________________________________________________________________\n",
      "dropout_4 (Dropout)          (None, 256)               0         \n",
      "_________________________________________________________________\n",
      "batch_normalization_2 (Batch (None, 256)               1024      \n",
      "_________________________________________________________________\n",
      "dense_7 (Dense)              (None, 256)               65792     \n",
      "_________________________________________________________________\n",
      "dropout_5 (Dropout)          (None, 256)               0         \n",
      "_________________________________________________________________\n",
      "batch_normalization_3 (Batch (None, 256)               1024      \n",
      "_________________________________________________________________\n",
      "dense_8 (Dense)              (None, 128)               32896     \n",
      "_________________________________________________________________\n",
      "dropout_6 (Dropout)          (None, 128)               0         \n",
      "_________________________________________________________________\n",
      "batch_normalization_4 (Batch (None, 128)               512       \n",
      "_________________________________________________________________\n",
      "dense_9 (Dense)              (None, 64)                8256      \n",
      "_________________________________________________________________\n",
      "dropout_7 (Dropout)          (None, 64)                0         \n",
      "_________________________________________________________________\n",
      "batch_normalization_5 (Batch (None, 64)                256       \n",
      "_________________________________________________________________\n",
      "dense_10 (Dense)             (None, 2)                 130       \n",
      "=================================================================\n",
      "Total params: 18,163,778\n",
      "Trainable params: 18,161,346\n",
      "Non-trainable params: 2,432\n",
      "_________________________________________________________________\n",
      "Train on 53209 samples, validate on 5913 samples\n",
      "Epoch 1/12\n",
      "53209/53209 [==============================] - 87s 2ms/step - loss: 1.8847 - acc: 0.5466 - val_loss: 1.7888 - val_acc: 0.6240\n",
      "Epoch 2/12\n",
      "53209/53209 [==============================] - 66s 1ms/step - loss: 1.6562 - acc: 0.7555 - val_loss: 1.6996 - val_acc: 0.7380\n",
      "Epoch 3/12\n",
      "53209/53209 [==============================] - 67s 1ms/step - loss: 1.2975 - acc: 0.8739 - val_loss: 1.3388 - val_acc: 0.8246\n",
      "Epoch 4/12\n",
      "53209/53209 [==============================] - 62s 1ms/step - loss: 1.0226 - acc: 0.9193 - val_loss: 1.1169 - val_acc: 0.8583\n",
      "Epoch 5/12\n",
      "53209/53209 [==============================] - 66s 1ms/step - loss: 0.8628 - acc: 0.9355 - val_loss: 0.9139 - val_acc: 0.9022\n",
      "Epoch 6/12\n",
      "53209/53209 [==============================] - 69s 1ms/step - loss: 0.7527 - acc: 0.9441 - val_loss: 0.8165 - val_acc: 0.9126\n",
      "Epoch 7/12\n",
      "53209/53209 [==============================] - 65s 1ms/step - loss: 0.6654 - acc: 0.9522 - val_loss: 0.7435 - val_acc: 0.9141\n",
      "Epoch 8/12\n",
      "53209/53209 [==============================] - 67s 1ms/step - loss: 0.6114 - acc: 0.9550 - val_loss: 0.6892 - val_acc: 0.9241\n",
      "Epoch 9/12\n",
      "53209/53209 [==============================] - 63s 1ms/step - loss: 0.5567 - acc: 0.9611 - val_loss: 0.6622 - val_acc: 0.9153\n",
      "Epoch 10/12\n",
      "53209/53209 [==============================] - 73s 1ms/step - loss: 0.5379 - acc: 0.9601 - val_loss: 0.6371 - val_acc: 0.9229\n",
      "Epoch 11/12\n",
      "53209/53209 [==============================] - 71s 1ms/step - loss: 0.5178 - acc: 0.9619 - val_loss: 0.6554 - val_acc: 0.9188\n",
      "Epoch 12/12\n",
      "53209/53209 [==============================] - 66s 1ms/step - loss: 0.5026 - acc: 0.9641 - val_loss: 0.6300 - val_acc: 0.9200\n"
     ]
    },
    {
     "data": {
      "image/png": "[encoded data removed]",
      "text/plain": [
       "<Figure size 432x288 with 1 Axes>"
      ]
     },
     "metadata": {
      "needs_background": "light"
     },
     "output_type": "display_data"
    }
   ],
   "source": [
    "F_model = models.Sequential()\n",
    "F_model.add(layers.Dense(512, activation='relu', kernel_regularizer=regularizers.l2(0.001),input_shape=(NB_WORDS,)))\n",
    "F_model.add(layers.Dropout(0.5))\n",
    "F_model.add(BatchNormalization())\n",
    "F_model.add(layers.Dense(256, activation='relu',kernel_regularizer=regularizers.l2(0.001)))\n",
    "F_model.add(layers.Dropout(0.5))\n",
    "F_model.add(BatchNormalization())\n",
    "F_model.add(layers.Dense(256, activation='relu',kernel_regularizer=regularizers.l2(0.001)))\n",
    "F_model.add(layers.Dropout(0.4))\n",
    "F_model.add(BatchNormalization())\n",
    "F_model.add(layers.Dense(128, activation='relu',kernel_regularizer=regularizers.l2(0.001)))\n",
    "F_model.add(layers.Dropout(0.4))\n",
    "F_model.add(BatchNormalization())\n",
    "F_model.add(layers.Dense(64, activation='relu',kernel_regularizer=regularizers.l2(0.001)))\n",
    "F_model.add(layers.Dropout(0.3))\n",
    "F_model.add(BatchNormalization())\n",
    "F_model.add(layers.Dense(2, activation='softmax'))\n",
    "F_model.summary()\n",
    "\n",
    "history = deep_model(F_model)\n",
    "\n",
    "compare_loss_with_baseline(history, 'F Model')"
   ]
  },
  {
   "cell_type": "code",
   "execution_count": 39,
   "metadata": {
    "scrolled": false
   },
   "outputs": [
    {
     "name": "stdout",
     "output_type": "stream",
     "text": [
      "Epoch 1/12\n",
      "59122/59122 [==============================] - 83s 1ms/step - loss: 0.5197 - acc: 0.9575\n",
      "Epoch 2/12\n",
      "59122/59122 [==============================] - 73s 1ms/step - loss: 0.5050 - acc: 0.9615\n",
      "Epoch 3/12\n",
      "59122/59122 [==============================] - 72s 1ms/step - loss: 0.4943 - acc: 0.9650\n",
      "Epoch 4/12\n",
      "59122/59122 [==============================] - 68s 1ms/step - loss: 0.5029 - acc: 0.9619\n",
      "Epoch 5/12\n",
      "59122/59122 [==============================] - 70s 1ms/step - loss: 0.4999 - acc: 0.9648\n",
      "Epoch 6/12\n",
      "59122/59122 [==============================] - 71s 1ms/step - loss: 0.4946 - acc: 0.9648\n",
      "Epoch 7/12\n",
      "59122/59122 [==============================] - 69s 1ms/step - loss: 0.4996 - acc: 0.9642\n",
      "Epoch 8/12\n",
      "59122/59122 [==============================] - 72s 1ms/step - loss: 0.5111 - acc: 0.9624\n",
      "Epoch 9/12\n",
      "59122/59122 [==============================] - 69s 1ms/step - loss: 0.5045 - acc: 0.9650\n",
      "Epoch 10/12\n",
      "59122/59122 [==============================] - 68s 1ms/step - loss: 0.5028 - acc: 0.9652\n",
      "Epoch 11/12\n",
      "59122/59122 [==============================] - 68s 1ms/step - loss: 0.4984 - acc: 0.9661\n",
      "Epoch 12/12\n",
      "59122/59122 [==============================] - 68s 1ms/step - loss: 0.5041 - acc: 0.9651\n",
      "6570/6570 [==============================] - 10s 2ms/step\n",
      "Test accuracy of model: 93.49%\n"
     ]
    }
   ],
   "source": [
    "results = test_model(F_model, 12)\n",
    "print('Test accuracy of model: {0:.2f}%'.format(results[0][1]*100))"
   ]
  },
  {
   "cell_type": "markdown",
   "metadata": {},
   "source": [
    "## Save model and retest"
   ]
  },
  {
   "cell_type": "code",
   "execution_count": 40,
   "metadata": {},
   "outputs": [],
   "source": [
    "import pickle\n",
    "\n",
    "filename = 'finalized_Keras_model.sav'\n",
    "pickle.dump(F_model, open(filename, 'wb'))"
   ]
  },
  {
   "cell_type": "code",
   "execution_count": 41,
   "metadata": {},
   "outputs": [
    {
     "name": "stdout",
     "output_type": "stream",
     "text": [
      "6570/6570 [==============================] - 8s 1ms/step\n",
      "[0.6189068337553713, 0.934855403348554]\n"
     ]
    }
   ],
   "source": [
    "loaded_model = pickle.load(open(filename, 'rb'))\n",
    "result = loaded_model.evaluate(X_test_oh, y_test_oh)\n",
    "print(result)"
   ]
  },
  {
   "cell_type": "code",
   "execution_count": 42,
   "metadata": {},
   "outputs": [
    {
     "name": "stdout",
     "output_type": "stream",
     "text": [
      "Saved model to disk\n"
     ]
    }
   ],
   "source": [
    "# serialize model to JSON\n",
    "model_json = F_model.to_json()\n",
    "with open(\"Keras_FNN_model.json\", \"w\") as json_file:\n",
    "    json_file.write(model_json)\n",
    "# serialize weights to HDF5\n",
    "F_model.save_weights(\"Keras_FNN_model.h5\")\n",
    "print(\"Saved model to disk\")"
   ]
  },
  {
   "cell_type": "code",
   "execution_count": 44,
   "metadata": {},
   "outputs": [
    {
     "name": "stdout",
     "output_type": "stream",
     "text": [
      "Loaded model from disk\n",
      "6570/6570 [==============================] - 8s 1ms/step\n",
      "acc: 93.49%\n"
     ]
    }
   ],
   "source": [
    "from keras.models import model_from_json\n",
    "\n",
    "# load json and create model\n",
    "json_file = open('Keras_FNN_model.json', 'r')\n",
    "loaded_model_json = json_file.read()\n",
    "json_file.close()\n",
    "loaded_model = model_from_json(loaded_model_json)\n",
    "# load weights into new model\n",
    "loaded_model.load_weights(\"Keras_FNN_model.h5\")\n",
    "print(\"Loaded model from disk\")\n",
    " \n",
    "# evaluate loaded model on test data\n",
    "loaded_model.compile(loss='binary_crossentropy', optimizer='rmsprop', metrics=['accuracy'])\n",
    "score = loaded_model.evaluate(X_test_oh, y_test_oh, verbose=1)\n",
    "print(\"%s: %.2f%%\" % (loaded_model.metrics_names[1], score[1]*100))"
   ]
  },
  {
   "cell_type": "code",
   "execution_count": null,
   "metadata": {},
   "outputs": [],
   "source": []
  }
 ],
 "metadata": {
  "kernelspec": {
   "display_name": "Python 3",
   "language": "python",
   "name": "python3"
  },
  "language_info": {
   "codemirror_mode": {
    "name": "ipython",
    "version": 3
   },
   "file_extension": ".py",
   "mimetype": "text/x-python",
   "name": "python",
   "nbconvert_exporter": "python",
   "pygments_lexer": "ipython3",
   "version": "3.7.6"
  }
 },
 "nbformat": 4,
 "nbformat_minor": 2
}
